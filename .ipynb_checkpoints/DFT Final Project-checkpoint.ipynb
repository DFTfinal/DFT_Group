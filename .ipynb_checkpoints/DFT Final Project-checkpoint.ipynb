{
 "cells": [
  {
   "cell_type": "markdown",
   "metadata": {},
   "source": [
    "### Load the libraries"
   ]
  },
  {
   "cell_type": "code",
   "execution_count": 1,
   "metadata": {},
   "outputs": [],
   "source": [
    "import pandas as pd\n",
    "import seaborn as sns"
   ]
  },
  {
   "cell_type": "markdown",
   "metadata": {},
   "source": [
    "### Import the Data"
   ]
  },
  {
   "cell_type": "code",
   "execution_count": 2,
   "metadata": {},
   "outputs": [
    {
     "data": {
      "text/html": [
       "<div>\n",
       "<style scoped>\n",
       "    .dataframe tbody tr th:only-of-type {\n",
       "        vertical-align: middle;\n",
       "    }\n",
       "\n",
       "    .dataframe tbody tr th {\n",
       "        vertical-align: top;\n",
       "    }\n",
       "\n",
       "    .dataframe thead th {\n",
       "        text-align: right;\n",
       "    }\n",
       "</style>\n",
       "<table border=\"1\" class=\"dataframe\">\n",
       "  <thead>\n",
       "    <tr style=\"text-align: right;\">\n",
       "      <th></th>\n",
       "      <th>date</th>\n",
       "      <th>rooms</th>\n",
       "      <th>rooms_occupied</th>\n",
       "      <th>cumulative_population_cases</th>\n",
       "      <th>cumulative_homeless_cases</th>\n",
       "      <th>total_population_by_percentage</th>\n",
       "      <th>total_homless_population_by_percentage</th>\n",
       "    </tr>\n",
       "  </thead>\n",
       "  <tbody>\n",
       "    <tr>\n",
       "      <th>0</th>\n",
       "      <td>4.15.2020</td>\n",
       "      <td>9388</td>\n",
       "      <td>3477</td>\n",
       "      <td>25389</td>\n",
       "      <td>119</td>\n",
       "      <td>0.064260</td>\n",
       "      <td>0.078663</td>\n",
       "    </tr>\n",
       "    <tr>\n",
       "      <th>1</th>\n",
       "      <td>4.16.2020</td>\n",
       "      <td>10471</td>\n",
       "      <td>3918</td>\n",
       "      <td>26686</td>\n",
       "      <td>120</td>\n",
       "      <td>0.067542</td>\n",
       "      <td>0.079324</td>\n",
       "    </tr>\n",
       "    <tr>\n",
       "      <th>2</th>\n",
       "      <td>4.17.2020</td>\n",
       "      <td>10974</td>\n",
       "      <td>4211</td>\n",
       "      <td>27677</td>\n",
       "      <td>123</td>\n",
       "      <td>0.070051</td>\n",
       "      <td>0.081307</td>\n",
       "    </tr>\n",
       "    <tr>\n",
       "      <th>3</th>\n",
       "      <td>4.18.2020</td>\n",
       "      <td>11030</td>\n",
       "      <td>4257</td>\n",
       "      <td>29157</td>\n",
       "      <td>123</td>\n",
       "      <td>0.073797</td>\n",
       "      <td>0.081307</td>\n",
       "    </tr>\n",
       "    <tr>\n",
       "      <th>4</th>\n",
       "      <td>4.19.2020</td>\n",
       "      <td>11119</td>\n",
       "      <td>4299</td>\n",
       "      <td>30511</td>\n",
       "      <td>126</td>\n",
       "      <td>0.077223</td>\n",
       "      <td>0.083290</td>\n",
       "    </tr>\n",
       "  </tbody>\n",
       "</table>\n",
       "</div>"
      ],
      "text/plain": [
       "        date  rooms  rooms_occupied  cumulative_population_cases  \\\n",
       "0  4.15.2020   9388            3477                        25389   \n",
       "1  4.16.2020  10471            3918                        26686   \n",
       "2  4.17.2020  10974            4211                        27677   \n",
       "3  4.18.2020  11030            4257                        29157   \n",
       "4  4.19.2020  11119            4299                        30511   \n",
       "\n",
       "   cumulative_homeless_cases  total_population_by_percentage  \\\n",
       "0                        119                        0.064260   \n",
       "1                        120                        0.067542   \n",
       "2                        123                        0.070051   \n",
       "3                        123                        0.073797   \n",
       "4                        126                        0.077223   \n",
       "\n",
       "   total_homless_population_by_percentage  \n",
       "0                                0.078663  \n",
       "1                                0.079324  \n",
       "2                                0.081307  \n",
       "3                                0.081307  \n",
       "4                                0.083290  "
      ]
     },
     "execution_count": 2,
     "metadata": {},
     "output_type": "execute_result"
    }
   ],
   "source": [
    "covid19_homeless_impact_3 = pd.read_csv(r'C:\\Users\\engma\\Desktop\\BST\\DSO110-Final Group Project\\DFT_Group\\covid19_homeless_impact_3.csv')\n",
    "covid19_homeless_impact_3.head()"
   ]
  },
  {
   "cell_type": "code",
   "execution_count": null,
   "metadata": {},
   "outputs": [],
   "source": []
  }
 ],
 "metadata": {
  "kernelspec": {
   "display_name": "Python 3",
   "language": "python",
   "name": "python3"
  },
  "language_info": {
   "codemirror_mode": {
    "name": "ipython",
    "version": 3
   },
   "file_extension": ".py",
   "mimetype": "text/x-python",
   "name": "python",
   "nbconvert_exporter": "python",
   "pygments_lexer": "ipython3",
   "version": "3.8.3"
  }
 },
 "nbformat": 4,
 "nbformat_minor": 4
}
