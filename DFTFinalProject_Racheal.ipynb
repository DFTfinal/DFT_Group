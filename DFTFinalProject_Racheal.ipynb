{
 "cells": [
  {
   "cell_type": "code",
   "execution_count": 4,
   "metadata": {},
   "outputs": [],
   "source": [
    "import numpy as np\n",
    "import pandas as pd\n",
    "import seaborn as sns\n",
    "from scipy import stats\n",
    "import matplotlib.pyplot as plt\n",
    "from pylab import *\n",
    "import seaborn as sns\n",
    "%matplotlib inline\n",
    "import  statsmodels.api as sm\n",
    "import statsmodels.stats.api as sms\n",
    "from scipy.stats import boxcox"
   ]
  },
  {
   "cell_type": "code",
   "execution_count": 7,
   "metadata": {},
   "outputs": [],
   "source": [
    "dates = pd.read_excel('C:/Users/korab/Desktop/data science/Git Projects/DFT_Group/Dates 2.xlsx')"
   ]
  },
  {
   "cell_type": "code",
   "execution_count": 8,
   "metadata": {},
   "outputs": [
    {
     "data": {
      "text/html": [
       "<div>\n",
       "<style scoped>\n",
       "    .dataframe tbody tr th:only-of-type {\n",
       "        vertical-align: middle;\n",
       "    }\n",
       "\n",
       "    .dataframe tbody tr th {\n",
       "        vertical-align: top;\n",
       "    }\n",
       "\n",
       "    .dataframe thead th {\n",
       "        text-align: right;\n",
       "    }\n",
       "</style>\n",
       "<table border=\"1\" class=\"dataframe\">\n",
       "  <thead>\n",
       "    <tr style=\"text-align: right;\">\n",
       "      <th></th>\n",
       "      <th>Date</th>\n",
       "      <th>Alameda</th>\n",
       "      <th>Alpine</th>\n",
       "      <th>Amador</th>\n",
       "      <th>Butte</th>\n",
       "      <th>Calaveras</th>\n",
       "      <th>Colusa</th>\n",
       "      <th>Contra Costa</th>\n",
       "      <th>Del Norte</th>\n",
       "      <th>El Dorado</th>\n",
       "      <th>...</th>\n",
       "      <th>Sonoma</th>\n",
       "      <th>Stanislaus</th>\n",
       "      <th>Sutter</th>\n",
       "      <th>Tehama</th>\n",
       "      <th>Trinity</th>\n",
       "      <th>Tulare</th>\n",
       "      <th>Tuolumne</th>\n",
       "      <th>Ventura</th>\n",
       "      <th>Yolo</th>\n",
       "      <th>Yuba</th>\n",
       "    </tr>\n",
       "  </thead>\n",
       "  <tbody>\n",
       "    <tr>\n",
       "      <th>0</th>\n",
       "      <td>2020-04-15</td>\n",
       "      <td>888</td>\n",
       "      <td>2</td>\n",
       "      <td>7</td>\n",
       "      <td>15</td>\n",
       "      <td>9</td>\n",
       "      <td>3</td>\n",
       "      <td>552</td>\n",
       "      <td>2</td>\n",
       "      <td>34</td>\n",
       "      <td>...</td>\n",
       "      <td>152</td>\n",
       "      <td>146</td>\n",
       "      <td>23</td>\n",
       "      <td>1</td>\n",
       "      <td>0</td>\n",
       "      <td>296</td>\n",
       "      <td>1</td>\n",
       "      <td>350</td>\n",
       "      <td>101</td>\n",
       "      <td>15</td>\n",
       "    </tr>\n",
       "    <tr>\n",
       "      <th>1</th>\n",
       "      <td>2020-04-16</td>\n",
       "      <td>964</td>\n",
       "      <td>2</td>\n",
       "      <td>7</td>\n",
       "      <td>16</td>\n",
       "      <td>9</td>\n",
       "      <td>3</td>\n",
       "      <td>615</td>\n",
       "      <td>2</td>\n",
       "      <td>35</td>\n",
       "      <td>...</td>\n",
       "      <td>160</td>\n",
       "      <td>163</td>\n",
       "      <td>24</td>\n",
       "      <td>1</td>\n",
       "      <td>0</td>\n",
       "      <td>352</td>\n",
       "      <td>2</td>\n",
       "      <td>365</td>\n",
       "      <td>102</td>\n",
       "      <td>15</td>\n",
       "    </tr>\n",
       "    <tr>\n",
       "      <th>2</th>\n",
       "      <td>2020-04-17</td>\n",
       "      <td>1007</td>\n",
       "      <td>2</td>\n",
       "      <td>7</td>\n",
       "      <td>16</td>\n",
       "      <td>11</td>\n",
       "      <td>3</td>\n",
       "      <td>631</td>\n",
       "      <td>2</td>\n",
       "      <td>35</td>\n",
       "      <td>...</td>\n",
       "      <td>163</td>\n",
       "      <td>177</td>\n",
       "      <td>24</td>\n",
       "      <td>1</td>\n",
       "      <td>0</td>\n",
       "      <td>372</td>\n",
       "      <td>2</td>\n",
       "      <td>384</td>\n",
       "      <td>116</td>\n",
       "      <td>15</td>\n",
       "    </tr>\n",
       "    <tr>\n",
       "      <th>3</th>\n",
       "      <td>2020-04-18</td>\n",
       "      <td>1063</td>\n",
       "      <td>2</td>\n",
       "      <td>7</td>\n",
       "      <td>16</td>\n",
       "      <td>11</td>\n",
       "      <td>3</td>\n",
       "      <td>648</td>\n",
       "      <td>2</td>\n",
       "      <td>36</td>\n",
       "      <td>...</td>\n",
       "      <td>172</td>\n",
       "      <td>187</td>\n",
       "      <td>24</td>\n",
       "      <td>1</td>\n",
       "      <td>0</td>\n",
       "      <td>382</td>\n",
       "      <td>2</td>\n",
       "      <td>396</td>\n",
       "      <td>125</td>\n",
       "      <td>15</td>\n",
       "    </tr>\n",
       "    <tr>\n",
       "      <th>4</th>\n",
       "      <td>2020-04-19</td>\n",
       "      <td>1114</td>\n",
       "      <td>2</td>\n",
       "      <td>7</td>\n",
       "      <td>16</td>\n",
       "      <td>12</td>\n",
       "      <td>3</td>\n",
       "      <td>685</td>\n",
       "      <td>2</td>\n",
       "      <td>36</td>\n",
       "      <td>...</td>\n",
       "      <td>180</td>\n",
       "      <td>206</td>\n",
       "      <td>25</td>\n",
       "      <td>1</td>\n",
       "      <td>0</td>\n",
       "      <td>397</td>\n",
       "      <td>2</td>\n",
       "      <td>416</td>\n",
       "      <td>126</td>\n",
       "      <td>15</td>\n",
       "    </tr>\n",
       "    <tr>\n",
       "      <th>...</th>\n",
       "      <td>...</td>\n",
       "      <td>...</td>\n",
       "      <td>...</td>\n",
       "      <td>...</td>\n",
       "      <td>...</td>\n",
       "      <td>...</td>\n",
       "      <td>...</td>\n",
       "      <td>...</td>\n",
       "      <td>...</td>\n",
       "      <td>...</td>\n",
       "      <td>...</td>\n",
       "      <td>...</td>\n",
       "      <td>...</td>\n",
       "      <td>...</td>\n",
       "      <td>...</td>\n",
       "      <td>...</td>\n",
       "      <td>...</td>\n",
       "      <td>...</td>\n",
       "      <td>...</td>\n",
       "      <td>...</td>\n",
       "      <td>...</td>\n",
       "    </tr>\n",
       "    <tr>\n",
       "      <th>103</th>\n",
       "      <td>2020-07-27</td>\n",
       "      <td>10330</td>\n",
       "      <td>2</td>\n",
       "      <td>76</td>\n",
       "      <td>758</td>\n",
       "      <td>99</td>\n",
       "      <td>263</td>\n",
       "      <td>6933</td>\n",
       "      <td>87</td>\n",
       "      <td>513</td>\n",
       "      <td>...</td>\n",
       "      <td>2599</td>\n",
       "      <td>7861</td>\n",
       "      <td>637</td>\n",
       "      <td>189</td>\n",
       "      <td>3</td>\n",
       "      <td>8210</td>\n",
       "      <td>126</td>\n",
       "      <td>6392</td>\n",
       "      <td>1394</td>\n",
       "      <td>372</td>\n",
       "    </tr>\n",
       "    <tr>\n",
       "      <th>104</th>\n",
       "      <td>2020-07-28</td>\n",
       "      <td>10438</td>\n",
       "      <td>2</td>\n",
       "      <td>81</td>\n",
       "      <td>820</td>\n",
       "      <td>99</td>\n",
       "      <td>273</td>\n",
       "      <td>7073</td>\n",
       "      <td>87</td>\n",
       "      <td>513</td>\n",
       "      <td>...</td>\n",
       "      <td>2599</td>\n",
       "      <td>7994</td>\n",
       "      <td>647</td>\n",
       "      <td>189</td>\n",
       "      <td>3</td>\n",
       "      <td>8534</td>\n",
       "      <td>131</td>\n",
       "      <td>6392</td>\n",
       "      <td>1424</td>\n",
       "      <td>382</td>\n",
       "    </tr>\n",
       "    <tr>\n",
       "      <th>105</th>\n",
       "      <td>2020-07-29</td>\n",
       "      <td>10633</td>\n",
       "      <td>2</td>\n",
       "      <td>84</td>\n",
       "      <td>866</td>\n",
       "      <td>99</td>\n",
       "      <td>292</td>\n",
       "      <td>7304</td>\n",
       "      <td>88</td>\n",
       "      <td>555</td>\n",
       "      <td>...</td>\n",
       "      <td>2617</td>\n",
       "      <td>8228</td>\n",
       "      <td>670</td>\n",
       "      <td>214</td>\n",
       "      <td>3</td>\n",
       "      <td>8862</td>\n",
       "      <td>131</td>\n",
       "      <td>6830</td>\n",
       "      <td>1446</td>\n",
       "      <td>397</td>\n",
       "    </tr>\n",
       "    <tr>\n",
       "      <th>106</th>\n",
       "      <td>2020-07-30</td>\n",
       "      <td>10773</td>\n",
       "      <td>2</td>\n",
       "      <td>89</td>\n",
       "      <td>883</td>\n",
       "      <td>108</td>\n",
       "      <td>304</td>\n",
       "      <td>7714</td>\n",
       "      <td>88</td>\n",
       "      <td>589</td>\n",
       "      <td>...</td>\n",
       "      <td>2662</td>\n",
       "      <td>8492</td>\n",
       "      <td>731</td>\n",
       "      <td>219</td>\n",
       "      <td>4</td>\n",
       "      <td>9076</td>\n",
       "      <td>132</td>\n",
       "      <td>6997</td>\n",
       "      <td>1477</td>\n",
       "      <td>441</td>\n",
       "    </tr>\n",
       "    <tr>\n",
       "      <th>107</th>\n",
       "      <td>2020-07-31</td>\n",
       "      <td>11131</td>\n",
       "      <td>2</td>\n",
       "      <td>110</td>\n",
       "      <td>907</td>\n",
       "      <td>108</td>\n",
       "      <td>312</td>\n",
       "      <td>7577</td>\n",
       "      <td>88</td>\n",
       "      <td>613</td>\n",
       "      <td>...</td>\n",
       "      <td>2748</td>\n",
       "      <td>8745</td>\n",
       "      <td>731</td>\n",
       "      <td>227</td>\n",
       "      <td>5</td>\n",
       "      <td>9241</td>\n",
       "      <td>134</td>\n",
       "      <td>7103</td>\n",
       "      <td>1494</td>\n",
       "      <td>441</td>\n",
       "    </tr>\n",
       "  </tbody>\n",
       "</table>\n",
       "<p>108 rows × 59 columns</p>\n",
       "</div>"
      ],
      "text/plain": [
       "          Date  Alameda  Alpine  Amador  Butte  Calaveras  Colusa  \\\n",
       "0   2020-04-15      888       2       7     15          9       3   \n",
       "1   2020-04-16      964       2       7     16          9       3   \n",
       "2   2020-04-17     1007       2       7     16         11       3   \n",
       "3   2020-04-18     1063       2       7     16         11       3   \n",
       "4   2020-04-19     1114       2       7     16         12       3   \n",
       "..         ...      ...     ...     ...    ...        ...     ...   \n",
       "103 2020-07-27    10330       2      76    758         99     263   \n",
       "104 2020-07-28    10438       2      81    820         99     273   \n",
       "105 2020-07-29    10633       2      84    866         99     292   \n",
       "106 2020-07-30    10773       2      89    883        108     304   \n",
       "107 2020-07-31    11131       2     110    907        108     312   \n",
       "\n",
       "     Contra Costa  Del Norte  El Dorado  ...  Sonoma  Stanislaus  Sutter  \\\n",
       "0             552          2         34  ...     152         146      23   \n",
       "1             615          2         35  ...     160         163      24   \n",
       "2             631          2         35  ...     163         177      24   \n",
       "3             648          2         36  ...     172         187      24   \n",
       "4             685          2         36  ...     180         206      25   \n",
       "..            ...        ...        ...  ...     ...         ...     ...   \n",
       "103          6933         87        513  ...    2599        7861     637   \n",
       "104          7073         87        513  ...    2599        7994     647   \n",
       "105          7304         88        555  ...    2617        8228     670   \n",
       "106          7714         88        589  ...    2662        8492     731   \n",
       "107          7577         88        613  ...    2748        8745     731   \n",
       "\n",
       "     Tehama  Trinity  Tulare  Tuolumne  Ventura  Yolo  Yuba  \n",
       "0         1        0     296         1      350   101    15  \n",
       "1         1        0     352         2      365   102    15  \n",
       "2         1        0     372         2      384   116    15  \n",
       "3         1        0     382         2      396   125    15  \n",
       "4         1        0     397         2      416   126    15  \n",
       "..      ...      ...     ...       ...      ...   ...   ...  \n",
       "103     189        3    8210       126     6392  1394   372  \n",
       "104     189        3    8534       131     6392  1424   382  \n",
       "105     214        3    8862       131     6830  1446   397  \n",
       "106     219        4    9076       132     6997  1477   441  \n",
       "107     227        5    9241       134     7103  1494   441  \n",
       "\n",
       "[108 rows x 59 columns]"
      ]
     },
     "execution_count": 8,
     "metadata": {},
     "output_type": "execute_result"
    }
   ],
   "source": [
    "dates"
   ]
  },
  {
   "cell_type": "code",
   "execution_count": 12,
   "metadata": {},
   "outputs": [
    {
     "data": {
      "text/plain": [
       "<matplotlib.axes._subplots.AxesSubplot at 0x2588ee70d88>"
      ]
     },
     "execution_count": 12,
     "metadata": {},
     "output_type": "execute_result"
    },
    {
     "data": {
      "image/png": "[encoded data removed]",
      "text/plain": [
       "<Figure size 432x288 with 1 Axes>"
      ]
     },
     "metadata": {
      "needs_background": "light"
     },
     "output_type": "display_data"
    }
   ],
   "source": [
    "sns.distplot(dates['San_Francisco'])"
   ]
  },
  {
   "cell_type": "code",
   "execution_count": 10,
   "metadata": {},
   "outputs": [
    {
     "name": "stdout",
     "output_type": "stream",
     "text": [
      "['Date' 'Alameda' 'Alpine' 'Amador' 'Butte' 'Calaveras' 'Colusa'\n",
      " 'Contra Costa' 'Del Norte' 'El Dorado' 'Fresno' 'Glenn' 'Humboldt'\n",
      " 'Imperial' 'Inyo' 'Kern' 'Kings' 'Lake' 'Lassen' 'Los Angeles' 'Madera'\n",
      " 'Marin' 'Mariposa' 'Mendocino' 'Merced' 'Modoc' 'Mono' 'Monterey' 'Napa'\n",
      " 'Nevada' 'Orange' 'Placer' 'Plumas' 'Riverside' 'Sacramento' 'San Benito'\n",
      " 'San Bernardino' 'San Diego' 'San_Francisco' 'San Joaquin'\n",
      " 'San Luis Obispo' 'San Mateo' 'Santa Barbara' 'Santa Clara' 'Santa Cruz'\n",
      " 'Shasta' 'Sierra' 'Siskiyou' 'Solano' 'Sonoma' 'Stanislaus' 'Sutter'\n",
      " 'Tehama' 'Trinity' 'Tulare' 'Tuolumne' 'Ventura' 'Yolo' 'Yuba']\n"
     ]
    }
   ],
   "source": [
    "print(dates.columns.values)"
   ]
  },
  {
   "cell_type": "code",
   "execution_count": 16,
   "metadata": {},
   "outputs": [],
   "source": [
    "datessum = dates.sum(axis=0)"
   ]
  },
  {
   "cell_type": "code",
   "execution_count": 17,
   "metadata": {},
   "outputs": [
    {
     "data": {
      "text/plain": [
       "Alameda             489095\n",
       "Alpine                 214\n",
       "Amador                2386\n",
       "Butte                18715\n",
       "Calaveras             3682\n",
       "Colusa                5491\n",
       "Contra Costa        269887\n",
       "Del Norte             3970\n",
       "El Dorado            17799\n",
       "Fresno              411436\n",
       "Glenn                 7654\n",
       "Humboldt             11870\n",
       "Imperial            399179\n",
       "Inyo                  2752\n",
       "Kern                431127\n",
       "Kings               164163\n",
       "Lake                  5446\n",
       "Lassen               13823\n",
       "Los Angeles        8086346\n",
       "Madera               44463\n",
       "Marin               157872\n",
       "Mariposa              2110\n",
       "Mendocino             7119\n",
       "Merced               93667\n",
       "Modoc                    4\n",
       "Mono                  4693\n",
       "Monterey            133605\n",
       "Napa                 26753\n",
       "Nevada                9835\n",
       "Orange             1229575\n",
       "Placer               57497\n",
       "Plumas                 970\n",
       "Riverside          1401230\n",
       "Sacramento          306701\n",
       "San Benito           19242\n",
       "San Bernardino     1027124\n",
       "San Diego          1166483\n",
       "San_Francisco       321809\n",
       "San Joaquin         313443\n",
       "San Luis Obispo      55448\n",
       "San Mateo           274236\n",
       "Santa Barbara       245541\n",
       "Santa Clara         421146\n",
       "Santa Cruz           35802\n",
       "Shasta               10183\n",
       "Sierra                  73\n",
       "Siskiyou              2181\n",
       "Solano              111200\n",
       "Sonoma               96867\n",
       "Stanislaus          224609\n",
       "Sutter               18045\n",
       "Tehama                5069\n",
       "Trinity                154\n",
       "Tulare              329893\n",
       "Tuolumne              2993\n",
       "Ventura             233321\n",
       "Yolo                 47924\n",
       "Yuba                  9483\n",
       "dtype: int64"
      ]
     },
     "execution_count": 17,
     "metadata": {},
     "output_type": "execute_result"
    }
   ],
   "source": [
    "datessum"
   ]
  },
  {
   "cell_type": "code",
   "execution_count": 23,
   "metadata": {},
   "outputs": [
    {
     "data": {
      "text/plain": [
       "<matplotlib.axes._subplots.AxesSubplot at 0x25891774048>"
      ]
     },
     "execution_count": 23,
     "metadata": {},
     "output_type": "execute_result"
    },
    {
     "data": {
      "image/png": "[encoded data removed]",
      "text/plain": [
       "<Figure size 432x288 with 1 Axes>"
      ]
     },
     "metadata": {
      "needs_background": "light"
     },
     "output_type": "display_data"
    }
   ],
   "source": [
    "datessum.plot(kind = 'bar')"
   ]
  },
  {
   "cell_type": "code",
   "execution_count": 25,
   "metadata": {},
   "outputs": [],
   "source": [
    "datessum.to_csv('C:/Users/korab/Desktop/data science/Git Projects/DFT_Group/DatesCountysum.csv')"
   ]
  },
  {
   "cell_type": "markdown",
   "metadata": {},
   "source": [
    "# Is there a difference between homeless and the Settled population in terms of percentage cases of population? "
   ]
  },
  {
   "cell_type": "code",
   "execution_count": 3,
   "metadata": {},
   "outputs": [],
   "source": [
    "import pandas as pd\n",
    "import numpy as np\n",
    "import scipy\n",
    "from scipy import stats\n",
    "from scipy.stats import ttest_ind\n",
    "from statsmodels.stats.multicomp import pairwise_tukeyhsd\n",
    "from statsmodels.stats.multicomp import MultiComparison"
   ]
  },
  {
   "cell_type": "markdown",
   "metadata": {},
   "source": [
    "### import data"
   ]
  },
  {
   "cell_type": "code",
   "execution_count": 32,
   "metadata": {},
   "outputs": [],
   "source": [
    "SF = pd.read_csv('C:/Users/korab/Desktop/data science/Git Projects/DFT_Group/covid19_homeless_impact_WR2-python.csv')"
   ]
  },
  {
   "cell_type": "code",
   "execution_count": 33,
   "metadata": {
    "scrolled": true
   },
   "outputs": [
    {
     "data": {
      "text/html": [
       "<div>\n",
       "<style scoped>\n",
       "    .dataframe tbody tr th:only-of-type {\n",
       "        vertical-align: middle;\n",
       "    }\n",
       "\n",
       "    .dataframe tbody tr th {\n",
       "        vertical-align: top;\n",
       "    }\n",
       "\n",
       "    .dataframe thead th {\n",
       "        text-align: right;\n",
       "    }\n",
       "</style>\n",
       "<table border=\"1\" class=\"dataframe\">\n",
       "  <thead>\n",
       "    <tr style=\"text-align: right;\">\n",
       "      <th></th>\n",
       "      <th>county</th>\n",
       "      <th>date</th>\n",
       "      <th>cumulative_population_cases</th>\n",
       "      <th>rooms</th>\n",
       "      <th>rooms_occupied</th>\n",
       "      <th>trailers_requested</th>\n",
       "      <th>trailers_delivered</th>\n",
       "      <th>donated_trailers_delivered</th>\n",
       "      <th>cumulative_homeless_cases</th>\n",
       "      <th>total_homless_population_by_percentage</th>\n",
       "      <th>total_population_by_percentage</th>\n",
       "    </tr>\n",
       "  </thead>\n",
       "  <tbody>\n",
       "    <tr>\n",
       "      <th>0</th>\n",
       "      <td>San Francisco</td>\n",
       "      <td>4/15/2020</td>\n",
       "      <td>987</td>\n",
       "      <td>1012</td>\n",
       "      <td>751</td>\n",
       "      <td>0</td>\n",
       "      <td>0</td>\n",
       "      <td>0</td>\n",
       "      <td>119</td>\n",
       "      <td>1.216271</td>\n",
       "      <td>0.111739</td>\n",
       "    </tr>\n",
       "    <tr>\n",
       "      <th>1</th>\n",
       "      <td>San Francisco</td>\n",
       "      <td>4/16/2020</td>\n",
       "      <td>1013</td>\n",
       "      <td>1271</td>\n",
       "      <td>748</td>\n",
       "      <td>0</td>\n",
       "      <td>0</td>\n",
       "      <td>0</td>\n",
       "      <td>120</td>\n",
       "      <td>1.226492</td>\n",
       "      <td>0.114683</td>\n",
       "    </tr>\n",
       "    <tr>\n",
       "      <th>2</th>\n",
       "      <td>San Francisco</td>\n",
       "      <td>4/17/2020</td>\n",
       "      <td>1019</td>\n",
       "      <td>1271</td>\n",
       "      <td>748</td>\n",
       "      <td>0</td>\n",
       "      <td>0</td>\n",
       "      <td>0</td>\n",
       "      <td>123</td>\n",
       "      <td>1.257155</td>\n",
       "      <td>0.115362</td>\n",
       "    </tr>\n",
       "    <tr>\n",
       "      <th>3</th>\n",
       "      <td>San Francisco</td>\n",
       "      <td>4/18/2020</td>\n",
       "      <td>1058</td>\n",
       "      <td>1271</td>\n",
       "      <td>710</td>\n",
       "      <td>0</td>\n",
       "      <td>0</td>\n",
       "      <td>0</td>\n",
       "      <td>123</td>\n",
       "      <td>1.257155</td>\n",
       "      <td>0.119777</td>\n",
       "    </tr>\n",
       "    <tr>\n",
       "      <th>4</th>\n",
       "      <td>San Francisco</td>\n",
       "      <td>4/19/2020</td>\n",
       "      <td>1137</td>\n",
       "      <td>1273</td>\n",
       "      <td>725</td>\n",
       "      <td>0</td>\n",
       "      <td>0</td>\n",
       "      <td>0</td>\n",
       "      <td>126</td>\n",
       "      <td>1.287817</td>\n",
       "      <td>0.128721</td>\n",
       "    </tr>\n",
       "    <tr>\n",
       "      <th>...</th>\n",
       "      <td>...</td>\n",
       "      <td>...</td>\n",
       "      <td>...</td>\n",
       "      <td>...</td>\n",
       "      <td>...</td>\n",
       "      <td>...</td>\n",
       "      <td>...</td>\n",
       "      <td>...</td>\n",
       "      <td>...</td>\n",
       "      <td>...</td>\n",
       "      <td>...</td>\n",
       "    </tr>\n",
       "    <tr>\n",
       "      <th>85</th>\n",
       "      <td>San Francisco</td>\n",
       "      <td>7/27/2020</td>\n",
       "      <td>5932</td>\n",
       "      <td>2468</td>\n",
       "      <td>1900</td>\n",
       "      <td>91</td>\n",
       "      <td>91</td>\n",
       "      <td>0</td>\n",
       "      <td>244</td>\n",
       "      <td>2.493868</td>\n",
       "      <td>0.671569</td>\n",
       "    </tr>\n",
       "    <tr>\n",
       "      <th>86</th>\n",
       "      <td>San Francisco</td>\n",
       "      <td>7/28/2020</td>\n",
       "      <td>6022</td>\n",
       "      <td>2614</td>\n",
       "      <td>1901</td>\n",
       "      <td>91</td>\n",
       "      <td>91</td>\n",
       "      <td>0</td>\n",
       "      <td>246</td>\n",
       "      <td>2.514309</td>\n",
       "      <td>0.681758</td>\n",
       "    </tr>\n",
       "    <tr>\n",
       "      <th>87</th>\n",
       "      <td>San Francisco</td>\n",
       "      <td>7/29/2020</td>\n",
       "      <td>6065</td>\n",
       "      <td>2614</td>\n",
       "      <td>1899</td>\n",
       "      <td>91</td>\n",
       "      <td>91</td>\n",
       "      <td>0</td>\n",
       "      <td>246</td>\n",
       "      <td>2.514309</td>\n",
       "      <td>0.686626</td>\n",
       "    </tr>\n",
       "    <tr>\n",
       "      <th>88</th>\n",
       "      <td>San Francisco</td>\n",
       "      <td>7/30/2020</td>\n",
       "      <td>6197</td>\n",
       "      <td>2614</td>\n",
       "      <td>1895</td>\n",
       "      <td>91</td>\n",
       "      <td>91</td>\n",
       "      <td>0</td>\n",
       "      <td>246</td>\n",
       "      <td>2.514309</td>\n",
       "      <td>0.701570</td>\n",
       "    </tr>\n",
       "    <tr>\n",
       "      <th>89</th>\n",
       "      <td>San Francisco</td>\n",
       "      <td>7/31/2020</td>\n",
       "      <td>6423</td>\n",
       "      <td>2614</td>\n",
       "      <td>1895</td>\n",
       "      <td>91</td>\n",
       "      <td>91</td>\n",
       "      <td>0</td>\n",
       "      <td>246</td>\n",
       "      <td>2.514309</td>\n",
       "      <td>0.727155</td>\n",
       "    </tr>\n",
       "  </tbody>\n",
       "</table>\n",
       "<p>90 rows × 11 columns</p>\n",
       "</div>"
      ],
      "text/plain": [
       "           county       date  cumulative_population_cases  rooms  \\\n",
       "0   San Francisco  4/15/2020                          987   1012   \n",
       "1   San Francisco  4/16/2020                         1013   1271   \n",
       "2   San Francisco  4/17/2020                         1019   1271   \n",
       "3   San Francisco  4/18/2020                         1058   1271   \n",
       "4   San Francisco  4/19/2020                         1137   1273   \n",
       "..            ...        ...                          ...    ...   \n",
       "85  San Francisco  7/27/2020                         5932   2468   \n",
       "86  San Francisco  7/28/2020                         6022   2614   \n",
       "87  San Francisco  7/29/2020                         6065   2614   \n",
       "88  San Francisco  7/30/2020                         6197   2614   \n",
       "89  San Francisco  7/31/2020                         6423   2614   \n",
       "\n",
       "    rooms_occupied  trailers_requested  trailers_delivered  \\\n",
       "0              751                   0                   0   \n",
       "1              748                   0                   0   \n",
       "2              748                   0                   0   \n",
       "3              710                   0                   0   \n",
       "4              725                   0                   0   \n",
       "..             ...                 ...                 ...   \n",
       "85            1900                  91                  91   \n",
       "86            1901                  91                  91   \n",
       "87            1899                  91                  91   \n",
       "88            1895                  91                  91   \n",
       "89            1895                  91                  91   \n",
       "\n",
       "    donated_trailers_delivered  cumulative_homeless_cases  \\\n",
       "0                            0                        119   \n",
       "1                            0                        120   \n",
       "2                            0                        123   \n",
       "3                            0                        123   \n",
       "4                            0                        126   \n",
       "..                         ...                        ...   \n",
       "85                           0                        244   \n",
       "86                           0                        246   \n",
       "87                           0                        246   \n",
       "88                           0                        246   \n",
       "89                           0                        246   \n",
       "\n",
       "    total_homless_population_by_percentage   total_population_by_percentage   \n",
       "0                                  1.216271                         0.111739  \n",
       "1                                  1.226492                         0.114683  \n",
       "2                                  1.257155                         0.115362  \n",
       "3                                  1.257155                         0.119777  \n",
       "4                                  1.287817                         0.128721  \n",
       "..                                      ...                              ...  \n",
       "85                                 2.493868                         0.671569  \n",
       "86                                 2.514309                         0.681758  \n",
       "87                                 2.514309                         0.686626  \n",
       "88                                 2.514309                         0.701570  \n",
       "89                                 2.514309                         0.727155  \n",
       "\n",
       "[90 rows x 11 columns]"
      ]
     },
     "execution_count": 33,
     "metadata": {},
     "output_type": "execute_result"
    }
   ],
   "source": [
    "SF"
   ]
  },
  {
   "cell_type": "markdown",
   "metadata": {},
   "source": [
    "# Compute an independent t-test"
   ]
  },
  {
   "cell_type": "markdown",
   "metadata": {},
   "source": [
    "## Testing assumptions"
   ]
  },
  {
   "cell_type": "markdown",
   "metadata": {},
   "source": [
    "### Testing for Normality"
   ]
  },
  {
   "cell_type": "code",
   "execution_count": 35,
   "metadata": {},
   "outputs": [
    {
     "data": {
      "text/plain": [
       "<matplotlib.axes._subplots.AxesSubplot at 0x25891953bc8>"
      ]
     },
     "execution_count": 35,
     "metadata": {},
     "output_type": "execute_result"
    },
    {
     "data": {
      "image/png": "[encoded data removed]",
      "text/plain": [
       "<Figure size 432x288 with 1 Axes>"
      ]
     },
     "metadata": {
      "needs_background": "light"
     },
     "output_type": "display_data"
    }
   ],
   "source": [
    "sns.distplot(SF['total_homless_population_by_percentage '])"
   ]
  },
  {
   "cell_type": "code",
   "execution_count": 36,
   "metadata": {},
   "outputs": [
    {
     "data": {
      "text/plain": [
       "<matplotlib.axes._subplots.AxesSubplot at 0x25891a51708>"
      ]
     },
     "execution_count": 36,
     "metadata": {},
     "output_type": "execute_result"
    },
    {
     "data": {
      "image/png": "[encoded data removed]",
      "text/plain": [
       "<Figure size 432x288 with 1 Axes>"
      ]
     },
     "metadata": {
      "needs_background": "light"
     },
     "output_type": "display_data"
    }
   ],
   "source": [
    "sns.distplot(SF['total_population_by_percentage '])"
   ]
  },
  {
   "cell_type": "markdown",
   "metadata": {},
   "source": [
    "#### both variables are normally distributed"
   ]
  },
  {
   "cell_type": "markdown",
   "metadata": {},
   "source": [
    "## Homogeneity of variance"
   ]
  },
  {
   "cell_type": "markdown",
   "metadata": {},
   "source": [
    "### We will use the bartlett's test"
   ]
  },
  {
   "cell_type": "code",
   "execution_count": 39,
   "metadata": {
    "scrolled": true
   },
   "outputs": [
    {
     "data": {
      "text/plain": [
       "BartlettResult(statistic=52.596933195046, pvalue=4.095282153292681e-13)"
      ]
     },
     "execution_count": 39,
     "metadata": {},
     "output_type": "execute_result"
    }
   ],
   "source": [
    "scipy.stats.bartlett(SF['total_homless_population_by_percentage '], SF['total_population_by_percentage '])"
   ]
  },
  {
   "cell_type": "code",
   "execution_count": null,
   "metadata": {},
   "outputs": [],
   "source": [
    "### "
   ]
  },
  {
   "cell_type": "markdown",
   "metadata": {},
   "source": [
    "## Independent t-test"
   ]
  },
  {
   "cell_type": "code",
   "execution_count": 38,
   "metadata": {},
   "outputs": [
    {
     "data": {
      "text/plain": [
       "Ttest_indResult(statistic=35.231976159075735, pvalue=3.6129652945153914e-82)"
      ]
     },
     "execution_count": 38,
     "metadata": {},
     "output_type": "execute_result"
    }
   ],
   "source": [
    "ttest_ind(SF['total_homless_population_by_percentage '], SF['total_population_by_percentage '])"
   ]
  },
  {
   "cell_type": "code",
   "execution_count": null,
   "metadata": {},
   "outputs": [],
   "source": []
  },
  {
   "cell_type": "markdown",
   "metadata": {},
   "source": [
    "### Looks like there is a significant difference between  homeless and the Settled population in terms of percentage cases of population, since the p value is  less than .05. The t value is small, which is another good indication."
   ]
  },
  {
   "cell_type": "markdown",
   "metadata": {},
   "source": [
    "# Linear regression "
   ]
  },
  {
   "cell_type": "code",
   "execution_count": 6,
   "metadata": {},
   "outputs": [],
   "source": [
    "import pandas as pd\n",
    "import numpy as np\n",
    "import matplotlib.pyplot as plt\n",
    "from pylab import *\n",
    "import seaborn as sns\n",
    "%matplotlib inline\n",
    "import  statsmodels.api as sm\n",
    "import statsmodels.stats.api as sms\n",
    "from scipy.stats import boxcox\n",
    "from statsmodels.stats.proportion import proportions_ztest"
   ]
  },
  {
   "cell_type": "markdown",
   "metadata": {},
   "source": [
    "## Testing for Homoscedasticity"
   ]
  },
  {
   "cell_type": "code",
   "execution_count": 42,
   "metadata": {},
   "outputs": [],
   "source": [
    "x = SF['total_homless_population_by_percentage ']\n",
    "y = SF['total_population_by_percentage ']"
   ]
  },
  {
   "cell_type": "code",
   "execution_count": 44,
   "metadata": {},
   "outputs": [],
   "source": [
    "SFmodel = sm.OLS(y,x).fit()"
   ]
  },
  {
   "cell_type": "code",
   "execution_count": 45,
   "metadata": {},
   "outputs": [],
   "source": [
    "pred_val = SFmodel.fittedvalues.copy()\n",
    "true_val = SF['total_population_by_percentage '].values.copy()\n",
    "residual = true_val - pred_val"
   ]
  },
  {
   "cell_type": "code",
   "execution_count": 47,
   "metadata": {},
   "outputs": [
    {
     "data": {
      "image/png": "[encoded data removed]",
      "text/plain": [
       "<Figure size 432x180 with 1 Axes>"
      ]
     },
     "metadata": {
      "needs_background": "light"
     },
     "output_type": "display_data"
    }
   ],
   "source": [
    "fig, ax = plt.subplots(figsize=(6, 2.5))\n",
    "_ = ax.scatter(true_val, pred_val)"
   ]
  },
  {
   "cell_type": "markdown",
   "metadata": {},
   "source": [
    "# One Proportional z-test"
   ]
  },
  {
   "cell_type": "markdown",
   "metadata": {},
   "source": [
    "# qn is homeless popn "
   ]
  },
  {
   "cell_type": "code",
   "execution_count": 7,
   "metadata": {},
   "outputs": [
    {
     "name": "stdout",
     "output_type": "stream",
     "text": [
      "-109.28347190606428 0.0\n"
     ]
    }
   ],
   "source": [
    "count = 246\n",
    "nobs = 6423\n",
    "value = .\n",
    "stat, pval = proportions_ztest(count, nobs, value)\n",
    "print(stat, pval)"
   ]
  },
  {
   "cell_type": "code",
   "execution_count": null,
   "metadata": {},
   "outputs": [],
   "source": []
  }
 ],
 "metadata": {
  "kernelspec": {
   "display_name": "Python 3",
   "language": "python",
   "name": "python3"
  },
  "language_info": {
   "codemirror_mode": {
    "name": "ipython",
    "version": 3
   },
   "file_extension": ".py",
   "mimetype": "text/x-python",
   "name": "python",
   "nbconvert_exporter": "python",
   "pygments_lexer": "ipython3",
   "version": "3.7.6"
  }
 },
 "nbformat": 4,
 "nbformat_minor": 4
}
