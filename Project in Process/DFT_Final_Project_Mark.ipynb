{
 "cells": [
  {
   "cell_type": "markdown",
   "metadata": {},
   "source": [
    "# 1- Import the packages"
   ]
  },
  {
   "cell_type": "code",
   "execution_count": 86,
   "metadata": {},
   "outputs": [],
   "source": [
    "import pandas  as pd\n",
    "import numpy   as np\n",
    "import scipy, scipy.stats\n",
    "import seaborn as sns\n",
    "import statsmodels as sm\n",
    "import statsmodels.stats.proportion as sp\n",
    "import matplotlib.mlab as mlab\n",
    "import matplotlib.pyplot as plt\n",
    "from pylab import *\n",
    "%matplotlib inline\n",
    "import  statsmodels.api as sm\n",
    "import statsmodels.stats.api as sms\n",
    "from scipy.stats import boxcox"
   ]
  },
  {
   "cell_type": "markdown",
   "metadata": {},
   "source": [
    "# 2- Import the Data"
   ]
  },
  {
   "cell_type": "markdown",
   "metadata": {},
   "source": [
    "1st Dataset"
   ]
  },
  {
   "cell_type": "code",
   "execution_count": 31,
   "metadata": {},
   "outputs": [
    {
     "data": {
      "text/html": [
       "<div>\n",
       "<style scoped>\n",
       "    .dataframe tbody tr th:only-of-type {\n",
       "        vertical-align: middle;\n",
       "    }\n",
       "\n",
       "    .dataframe tbody tr th {\n",
       "        vertical-align: top;\n",
       "    }\n",
       "\n",
       "    .dataframe thead th {\n",
       "        text-align: right;\n",
       "    }\n",
       "</style>\n",
       "<table border=\"1\" class=\"dataframe\">\n",
       "  <thead>\n",
       "    <tr style=\"text-align: right;\">\n",
       "      <th></th>\n",
       "      <th>UID</th>\n",
       "      <th>iso2</th>\n",
       "      <th>iso3</th>\n",
       "      <th>code3</th>\n",
       "      <th>Province_State</th>\n",
       "      <th>Country_Region</th>\n",
       "      <th>Lat</th>\n",
       "      <th>Long_</th>\n",
       "      <th>Combined_Key</th>\n",
       "      <th>FIPS</th>\n",
       "      <th>...</th>\n",
       "      <th>7/22/2020</th>\n",
       "      <th>7/23/2020</th>\n",
       "      <th>7/24/2020</th>\n",
       "      <th>7/25/2020</th>\n",
       "      <th>7/26/2020</th>\n",
       "      <th>7/27/2020</th>\n",
       "      <th>7/28/2020</th>\n",
       "      <th>7/29/2020</th>\n",
       "      <th>7/30/2020</th>\n",
       "      <th>7/31/2020</th>\n",
       "    </tr>\n",
       "  </thead>\n",
       "  <tbody>\n",
       "    <tr>\n",
       "      <th>0</th>\n",
       "      <td>84006001</td>\n",
       "      <td>US</td>\n",
       "      <td>USA</td>\n",
       "      <td>840</td>\n",
       "      <td>California</td>\n",
       "      <td>US</td>\n",
       "      <td>37.646294</td>\n",
       "      <td>-121.892927</td>\n",
       "      <td>Alameda, California, US</td>\n",
       "      <td>6001</td>\n",
       "      <td>...</td>\n",
       "      <td>9383</td>\n",
       "      <td>9643</td>\n",
       "      <td>9869</td>\n",
       "      <td>10214</td>\n",
       "      <td>10330</td>\n",
       "      <td>10330</td>\n",
       "      <td>10438</td>\n",
       "      <td>10633</td>\n",
       "      <td>10773</td>\n",
       "      <td>11131</td>\n",
       "    </tr>\n",
       "    <tr>\n",
       "      <th>1</th>\n",
       "      <td>84006003</td>\n",
       "      <td>US</td>\n",
       "      <td>USA</td>\n",
       "      <td>840</td>\n",
       "      <td>California</td>\n",
       "      <td>US</td>\n",
       "      <td>38.596786</td>\n",
       "      <td>-119.822359</td>\n",
       "      <td>Alpine, California, US</td>\n",
       "      <td>6003</td>\n",
       "      <td>...</td>\n",
       "      <td>2</td>\n",
       "      <td>2</td>\n",
       "      <td>2</td>\n",
       "      <td>2</td>\n",
       "      <td>2</td>\n",
       "      <td>2</td>\n",
       "      <td>2</td>\n",
       "      <td>2</td>\n",
       "      <td>2</td>\n",
       "      <td>2</td>\n",
       "    </tr>\n",
       "    <tr>\n",
       "      <th>2</th>\n",
       "      <td>84006005</td>\n",
       "      <td>US</td>\n",
       "      <td>USA</td>\n",
       "      <td>840</td>\n",
       "      <td>California</td>\n",
       "      <td>US</td>\n",
       "      <td>38.445831</td>\n",
       "      <td>-120.656960</td>\n",
       "      <td>Amador, California, US</td>\n",
       "      <td>6005</td>\n",
       "      <td>...</td>\n",
       "      <td>62</td>\n",
       "      <td>65</td>\n",
       "      <td>65</td>\n",
       "      <td>71</td>\n",
       "      <td>71</td>\n",
       "      <td>76</td>\n",
       "      <td>81</td>\n",
       "      <td>84</td>\n",
       "      <td>89</td>\n",
       "      <td>110</td>\n",
       "    </tr>\n",
       "    <tr>\n",
       "      <th>3</th>\n",
       "      <td>84006007</td>\n",
       "      <td>US</td>\n",
       "      <td>USA</td>\n",
       "      <td>840</td>\n",
       "      <td>California</td>\n",
       "      <td>US</td>\n",
       "      <td>39.667278</td>\n",
       "      <td>-121.600525</td>\n",
       "      <td>Butte, California, US</td>\n",
       "      <td>6007</td>\n",
       "      <td>...</td>\n",
       "      <td>658</td>\n",
       "      <td>683</td>\n",
       "      <td>722</td>\n",
       "      <td>758</td>\n",
       "      <td>758</td>\n",
       "      <td>758</td>\n",
       "      <td>820</td>\n",
       "      <td>866</td>\n",
       "      <td>883</td>\n",
       "      <td>907</td>\n",
       "    </tr>\n",
       "    <tr>\n",
       "      <th>4</th>\n",
       "      <td>84006009</td>\n",
       "      <td>US</td>\n",
       "      <td>USA</td>\n",
       "      <td>840</td>\n",
       "      <td>California</td>\n",
       "      <td>US</td>\n",
       "      <td>38.205371</td>\n",
       "      <td>-120.552913</td>\n",
       "      <td>Calaveras, California, US</td>\n",
       "      <td>6009</td>\n",
       "      <td>...</td>\n",
       "      <td>94</td>\n",
       "      <td>94</td>\n",
       "      <td>94</td>\n",
       "      <td>99</td>\n",
       "      <td>99</td>\n",
       "      <td>99</td>\n",
       "      <td>99</td>\n",
       "      <td>99</td>\n",
       "      <td>108</td>\n",
       "      <td>108</td>\n",
       "    </tr>\n",
       "  </tbody>\n",
       "</table>\n",
       "<p>5 rows × 119 columns</p>\n",
       "</div>"
      ],
      "text/plain": [
       "        UID iso2 iso3  code3 Province_State Country_Region        Lat  \\\n",
       "0  84006001   US  USA    840     California             US  37.646294   \n",
       "1  84006003   US  USA    840     California             US  38.596786   \n",
       "2  84006005   US  USA    840     California             US  38.445831   \n",
       "3  84006007   US  USA    840     California             US  39.667278   \n",
       "4  84006009   US  USA    840     California             US  38.205371   \n",
       "\n",
       "        Long_               Combined_Key  FIPS  ... 7/22/2020  7/23/2020  \\\n",
       "0 -121.892927    Alameda, California, US  6001  ...      9383       9643   \n",
       "1 -119.822359     Alpine, California, US  6003  ...         2          2   \n",
       "2 -120.656960     Amador, California, US  6005  ...        62         65   \n",
       "3 -121.600525      Butte, California, US  6007  ...       658        683   \n",
       "4 -120.552913  Calaveras, California, US  6009  ...        94         94   \n",
       "\n",
       "   7/24/2020  7/25/2020  7/26/2020  7/27/2020  7/28/2020  7/29/2020  \\\n",
       "0       9869      10214      10330      10330      10438      10633   \n",
       "1          2          2          2          2          2          2   \n",
       "2         65         71         71         76         81         84   \n",
       "3        722        758        758        758        820        866   \n",
       "4         94         99         99         99         99         99   \n",
       "\n",
       "   7/30/2020  7/31/2020  \n",
       "0      10773      11131  \n",
       "1          2          2  \n",
       "2         89        110  \n",
       "3        883        907  \n",
       "4        108        108  \n",
       "\n",
       "[5 rows x 119 columns]"
      ]
     },
     "execution_count": 31,
     "metadata": {},
     "output_type": "execute_result"
    }
   ],
   "source": [
    "total_no_of_cases = pd.read_csv(r'C:\\Users\\engma\\Desktop\\BST\\DSO110-Final Group Project\\DFT_Group\\Original_Datasets_python\\total_no_of_cases.csv')\n",
    "total_no_of_cases.head()"
   ]
  },
  {
   "cell_type": "markdown",
   "metadata": {},
   "source": [
    "2nd Dataset"
   ]
  },
  {
   "cell_type": "code",
   "execution_count": 32,
   "metadata": {},
   "outputs": [
    {
     "data": {
      "text/html": [
       "<div>\n",
       "<style scoped>\n",
       "    .dataframe tbody tr th:only-of-type {\n",
       "        vertical-align: middle;\n",
       "    }\n",
       "\n",
       "    .dataframe tbody tr th {\n",
       "        vertical-align: top;\n",
       "    }\n",
       "\n",
       "    .dataframe thead th {\n",
       "        text-align: right;\n",
       "    }\n",
       "</style>\n",
       "<table border=\"1\" class=\"dataframe\">\n",
       "  <thead>\n",
       "    <tr style=\"text-align: right;\">\n",
       "      <th></th>\n",
       "      <th>date</th>\n",
       "      <th>county</th>\n",
       "      <th>rooms</th>\n",
       "      <th>rooms_occupied</th>\n",
       "      <th>trailers_requested</th>\n",
       "      <th>trailers_delivered</th>\n",
       "      <th>donated_trailers_delivered</th>\n",
       "    </tr>\n",
       "  </thead>\n",
       "  <tbody>\n",
       "    <tr>\n",
       "      <th>0</th>\n",
       "      <td>4/15/2020</td>\n",
       "      <td>Alameda</td>\n",
       "      <td>403</td>\n",
       "      <td>132</td>\n",
       "      <td>91</td>\n",
       "      <td>85</td>\n",
       "      <td>0</td>\n",
       "    </tr>\n",
       "    <tr>\n",
       "      <th>1</th>\n",
       "      <td>4/15/2020</td>\n",
       "      <td>Alpine</td>\n",
       "      <td>0</td>\n",
       "      <td>0</td>\n",
       "      <td>0</td>\n",
       "      <td>0</td>\n",
       "      <td>0</td>\n",
       "    </tr>\n",
       "    <tr>\n",
       "      <th>2</th>\n",
       "      <td>4/15/2020</td>\n",
       "      <td>Amador</td>\n",
       "      <td>0</td>\n",
       "      <td>0</td>\n",
       "      <td>0</td>\n",
       "      <td>0</td>\n",
       "      <td>0</td>\n",
       "    </tr>\n",
       "    <tr>\n",
       "      <th>3</th>\n",
       "      <td>4/15/2020</td>\n",
       "      <td>Butte</td>\n",
       "      <td>65</td>\n",
       "      <td>65</td>\n",
       "      <td>0</td>\n",
       "      <td>0</td>\n",
       "      <td>0</td>\n",
       "    </tr>\n",
       "    <tr>\n",
       "      <th>4</th>\n",
       "      <td>4/15/2020</td>\n",
       "      <td>Calaveras</td>\n",
       "      <td>0</td>\n",
       "      <td>0</td>\n",
       "      <td>0</td>\n",
       "      <td>0</td>\n",
       "      <td>0</td>\n",
       "    </tr>\n",
       "  </tbody>\n",
       "</table>\n",
       "</div>"
      ],
      "text/plain": [
       "        date     county  rooms  rooms_occupied  trailers_requested  \\\n",
       "0  4/15/2020    Alameda    403             132                  91   \n",
       "1  4/15/2020     Alpine      0               0                   0   \n",
       "2  4/15/2020     Amador      0               0                   0   \n",
       "3  4/15/2020      Butte     65              65                   0   \n",
       "4  4/15/2020  Calaveras      0               0                   0   \n",
       "\n",
       "   trailers_delivered  donated_trailers_delivered  \n",
       "0                  85                           0  \n",
       "1                   0                           0  \n",
       "2                   0                           0  \n",
       "3                   0                           0  \n",
       "4                   0                           0  "
      ]
     },
     "execution_count": 32,
     "metadata": {},
     "output_type": "execute_result"
    }
   ],
   "source": [
    "covid19_homeless_impact = pd.read_csv(r'C:\\Users\\engma\\Desktop\\BST\\DSO110-Final Group Project\\DFT_Group\\Original_Datasets_python\\covid19_homeless_impact.csv')\n",
    "covid19_homeless_impact.head()"
   ]
  },
  {
   "cell_type": "markdown",
   "metadata": {},
   "source": [
    "3rd Dataset"
   ]
  },
  {
   "cell_type": "code",
   "execution_count": 33,
   "metadata": {},
   "outputs": [
    {
     "data": {
      "text/html": [
       "<div>\n",
       "<style scoped>\n",
       "    .dataframe tbody tr th:only-of-type {\n",
       "        vertical-align: middle;\n",
       "    }\n",
       "\n",
       "    .dataframe tbody tr th {\n",
       "        vertical-align: top;\n",
       "    }\n",
       "\n",
       "    .dataframe thead th {\n",
       "        text-align: right;\n",
       "    }\n",
       "</style>\n",
       "<table border=\"1\" class=\"dataframe\">\n",
       "  <thead>\n",
       "    <tr style=\"text-align: right;\">\n",
       "      <th></th>\n",
       "      <th>date</th>\n",
       "      <th>cumulative_homeless_cases</th>\n",
       "      <th>cumulative_general_public_cases</th>\n",
       "      <th>total_population_by_percentage</th>\n",
       "      <th>homless_population_by_percentage</th>\n",
       "      <th>general_public_population_by_percentage</th>\n",
       "    </tr>\n",
       "  </thead>\n",
       "  <tbody>\n",
       "    <tr>\n",
       "      <th>0</th>\n",
       "      <td>4/15/2020</td>\n",
       "      <td>119.0</td>\n",
       "      <td>868.0</td>\n",
       "      <td>0.111739433</td>\n",
       "      <td>1.216271</td>\n",
       "      <td>0.099368</td>\n",
       "    </tr>\n",
       "    <tr>\n",
       "      <th>1</th>\n",
       "      <td>4/16/2020</td>\n",
       "      <td>120.0</td>\n",
       "      <td>893.0</td>\n",
       "      <td>0.114682924</td>\n",
       "      <td>1.226492</td>\n",
       "      <td>0.102230</td>\n",
       "    </tr>\n",
       "    <tr>\n",
       "      <th>2</th>\n",
       "      <td>4/17/2020</td>\n",
       "      <td>123.0</td>\n",
       "      <td>896.0</td>\n",
       "      <td>0.115362191</td>\n",
       "      <td>1.257155</td>\n",
       "      <td>0.102573</td>\n",
       "    </tr>\n",
       "    <tr>\n",
       "      <th>3</th>\n",
       "      <td>4/18/2020</td>\n",
       "      <td>123.0</td>\n",
       "      <td>935.0</td>\n",
       "      <td>0.119777427</td>\n",
       "      <td>1.257155</td>\n",
       "      <td>0.107038</td>\n",
       "    </tr>\n",
       "    <tr>\n",
       "      <th>4</th>\n",
       "      <td>4/19/2020</td>\n",
       "      <td>126.0</td>\n",
       "      <td>1011.0</td>\n",
       "      <td>0.12872111</td>\n",
       "      <td>1.287817</td>\n",
       "      <td>0.115738</td>\n",
       "    </tr>\n",
       "  </tbody>\n",
       "</table>\n",
       "</div>"
      ],
      "text/plain": [
       "        date  cumulative_homeless_cases  cumulative_general_public_cases  \\\n",
       "0  4/15/2020                      119.0                            868.0   \n",
       "1  4/16/2020                      120.0                            893.0   \n",
       "2  4/17/2020                      123.0                            896.0   \n",
       "3  4/18/2020                      123.0                            935.0   \n",
       "4  4/19/2020                      126.0                           1011.0   \n",
       "\n",
       "  total_population_by_percentage   homless_population_by_percentage   \\\n",
       "0                     0.111739433                           1.216271   \n",
       "1                     0.114682924                           1.226492   \n",
       "2                     0.115362191                           1.257155   \n",
       "3                     0.119777427                           1.257155   \n",
       "4                      0.12872111                           1.287817   \n",
       "\n",
       "   general_public_population_by_percentage  \n",
       "0                                 0.099368  \n",
       "1                                 0.102230  \n",
       "2                                 0.102573  \n",
       "3                                 0.107038  \n",
       "4                                 0.115738  "
      ]
     },
     "execution_count": 33,
     "metadata": {},
     "output_type": "execute_result"
    }
   ],
   "source": [
    "covid19_cases_by_homelessness_status = pd.read_csv(r'C:\\Users\\engma\\Desktop\\BST\\DSO110-Final Group Project\\DFT_Group\\Original_Datasets_python\\covid19_cases_by_homelessness_status.csv')\n",
    "covid19_cases_by_homelessness_status.head()"
   ]
  },
  {
   "cell_type": "markdown",
   "metadata": {},
   "source": [
    "# 3- Data Wrangling"
   ]
  },
  {
   "cell_type": "markdown",
   "metadata": {},
   "source": [
    "3a: Subsetting 1st Dataset to only variables of interest \"county\" & \"dates with cases values\" "
   ]
  },
  {
   "cell_type": "code",
   "execution_count": 34,
   "metadata": {},
   "outputs": [
    {
     "data": {
      "text/plain": [
       "119"
      ]
     },
     "execution_count": 34,
     "metadata": {},
     "output_type": "execute_result"
    }
   ],
   "source": [
    "len(total_no_of_cases)\n",
    "len(total_no_of_cases.columns)"
   ]
  },
  {
   "cell_type": "code",
   "execution_count": 35,
   "metadata": {},
   "outputs": [
    {
     "data": {
      "text/html": [
       "<div>\n",
       "<style scoped>\n",
       "    .dataframe tbody tr th:only-of-type {\n",
       "        vertical-align: middle;\n",
       "    }\n",
       "\n",
       "    .dataframe tbody tr th {\n",
       "        vertical-align: top;\n",
       "    }\n",
       "\n",
       "    .dataframe thead th {\n",
       "        text-align: right;\n",
       "    }\n",
       "</style>\n",
       "<table border=\"1\" class=\"dataframe\">\n",
       "  <thead>\n",
       "    <tr style=\"text-align: right;\">\n",
       "      <th></th>\n",
       "      <th>county</th>\n",
       "      <th>4/15/2020</th>\n",
       "      <th>4/16/2020</th>\n",
       "      <th>4/17/2020</th>\n",
       "      <th>4/18/2020</th>\n",
       "      <th>4/19/2020</th>\n",
       "      <th>4/20/2020</th>\n",
       "      <th>4/21/2020</th>\n",
       "      <th>4/22/2020</th>\n",
       "      <th>4/23/2020</th>\n",
       "      <th>...</th>\n",
       "      <th>7/22/2020</th>\n",
       "      <th>7/23/2020</th>\n",
       "      <th>7/24/2020</th>\n",
       "      <th>7/25/2020</th>\n",
       "      <th>7/26/2020</th>\n",
       "      <th>7/27/2020</th>\n",
       "      <th>7/28/2020</th>\n",
       "      <th>7/29/2020</th>\n",
       "      <th>7/30/2020</th>\n",
       "      <th>7/31/2020</th>\n",
       "    </tr>\n",
       "  </thead>\n",
       "  <tbody>\n",
       "    <tr>\n",
       "      <th>0</th>\n",
       "      <td>Alameda</td>\n",
       "      <td>888</td>\n",
       "      <td>964</td>\n",
       "      <td>1007</td>\n",
       "      <td>1063</td>\n",
       "      <td>1114</td>\n",
       "      <td>1164</td>\n",
       "      <td>1193</td>\n",
       "      <td>1241</td>\n",
       "      <td>1242</td>\n",
       "      <td>...</td>\n",
       "      <td>9383</td>\n",
       "      <td>9643</td>\n",
       "      <td>9869</td>\n",
       "      <td>10214</td>\n",
       "      <td>10330</td>\n",
       "      <td>10330</td>\n",
       "      <td>10438</td>\n",
       "      <td>10633</td>\n",
       "      <td>10773</td>\n",
       "      <td>11131</td>\n",
       "    </tr>\n",
       "    <tr>\n",
       "      <th>1</th>\n",
       "      <td>Alpine</td>\n",
       "      <td>2</td>\n",
       "      <td>2</td>\n",
       "      <td>2</td>\n",
       "      <td>2</td>\n",
       "      <td>2</td>\n",
       "      <td>2</td>\n",
       "      <td>1</td>\n",
       "      <td>1</td>\n",
       "      <td>2</td>\n",
       "      <td>...</td>\n",
       "      <td>2</td>\n",
       "      <td>2</td>\n",
       "      <td>2</td>\n",
       "      <td>2</td>\n",
       "      <td>2</td>\n",
       "      <td>2</td>\n",
       "      <td>2</td>\n",
       "      <td>2</td>\n",
       "      <td>2</td>\n",
       "      <td>2</td>\n",
       "    </tr>\n",
       "    <tr>\n",
       "      <th>2</th>\n",
       "      <td>Amador</td>\n",
       "      <td>7</td>\n",
       "      <td>7</td>\n",
       "      <td>7</td>\n",
       "      <td>7</td>\n",
       "      <td>7</td>\n",
       "      <td>7</td>\n",
       "      <td>7</td>\n",
       "      <td>7</td>\n",
       "      <td>8</td>\n",
       "      <td>...</td>\n",
       "      <td>62</td>\n",
       "      <td>65</td>\n",
       "      <td>65</td>\n",
       "      <td>71</td>\n",
       "      <td>71</td>\n",
       "      <td>76</td>\n",
       "      <td>81</td>\n",
       "      <td>84</td>\n",
       "      <td>89</td>\n",
       "      <td>110</td>\n",
       "    </tr>\n",
       "    <tr>\n",
       "      <th>3</th>\n",
       "      <td>Butte</td>\n",
       "      <td>15</td>\n",
       "      <td>16</td>\n",
       "      <td>16</td>\n",
       "      <td>16</td>\n",
       "      <td>16</td>\n",
       "      <td>16</td>\n",
       "      <td>16</td>\n",
       "      <td>16</td>\n",
       "      <td>16</td>\n",
       "      <td>...</td>\n",
       "      <td>658</td>\n",
       "      <td>683</td>\n",
       "      <td>722</td>\n",
       "      <td>758</td>\n",
       "      <td>758</td>\n",
       "      <td>758</td>\n",
       "      <td>820</td>\n",
       "      <td>866</td>\n",
       "      <td>883</td>\n",
       "      <td>907</td>\n",
       "    </tr>\n",
       "    <tr>\n",
       "      <th>4</th>\n",
       "      <td>Calaveras</td>\n",
       "      <td>9</td>\n",
       "      <td>9</td>\n",
       "      <td>11</td>\n",
       "      <td>11</td>\n",
       "      <td>12</td>\n",
       "      <td>12</td>\n",
       "      <td>12</td>\n",
       "      <td>12</td>\n",
       "      <td>12</td>\n",
       "      <td>...</td>\n",
       "      <td>94</td>\n",
       "      <td>94</td>\n",
       "      <td>94</td>\n",
       "      <td>99</td>\n",
       "      <td>99</td>\n",
       "      <td>99</td>\n",
       "      <td>99</td>\n",
       "      <td>99</td>\n",
       "      <td>108</td>\n",
       "      <td>108</td>\n",
       "    </tr>\n",
       "  </tbody>\n",
       "</table>\n",
       "<p>5 rows × 109 columns</p>\n",
       "</div>"
      ],
      "text/plain": [
       "      county  4/15/2020  4/16/2020  4/17/2020  4/18/2020  4/19/2020  \\\n",
       "0    Alameda        888        964       1007       1063       1114   \n",
       "1     Alpine          2          2          2          2          2   \n",
       "2     Amador          7          7          7          7          7   \n",
       "3      Butte         15         16         16         16         16   \n",
       "4  Calaveras          9          9         11         11         12   \n",
       "\n",
       "   4/20/2020  4/21/2020  4/22/2020  4/23/2020  ...  7/22/2020  7/23/2020  \\\n",
       "0       1164       1193       1241       1242  ...       9383       9643   \n",
       "1          2          1          1          2  ...          2          2   \n",
       "2          7          7          7          8  ...         62         65   \n",
       "3         16         16         16         16  ...        658        683   \n",
       "4         12         12         12         12  ...         94         94   \n",
       "\n",
       "   7/24/2020  7/25/2020  7/26/2020  7/27/2020  7/28/2020  7/29/2020  \\\n",
       "0       9869      10214      10330      10330      10438      10633   \n",
       "1          2          2          2          2          2          2   \n",
       "2         65         71         71         76         81         84   \n",
       "3        722        758        758        758        820        866   \n",
       "4         94         99         99         99         99         99   \n",
       "\n",
       "   7/30/2020  7/31/2020  \n",
       "0      10773      11131  \n",
       "1          2          2  \n",
       "2         89        110  \n",
       "3        883        907  \n",
       "4        108        108  \n",
       "\n",
       "[5 rows x 109 columns]"
      ]
     },
     "execution_count": 35,
     "metadata": {},
     "output_type": "execute_result"
    }
   ],
   "source": [
    "total_no_of_cases_WR1 = total_no_of_cases.iloc[:, 10:119]\n",
    "total_no_of_cases_WR1.head()"
   ]
  },
  {
   "cell_type": "markdown",
   "metadata": {},
   "source": [
    "3b: Filter only for San Francisco county"
   ]
  },
  {
   "cell_type": "code",
   "execution_count": 36,
   "metadata": {},
   "outputs": [
    {
     "data": {
      "text/html": [
       "<div>\n",
       "<style scoped>\n",
       "    .dataframe tbody tr th:only-of-type {\n",
       "        vertical-align: middle;\n",
       "    }\n",
       "\n",
       "    .dataframe tbody tr th {\n",
       "        vertical-align: top;\n",
       "    }\n",
       "\n",
       "    .dataframe thead th {\n",
       "        text-align: right;\n",
       "    }\n",
       "</style>\n",
       "<table border=\"1\" class=\"dataframe\">\n",
       "  <thead>\n",
       "    <tr style=\"text-align: right;\">\n",
       "      <th></th>\n",
       "      <th>county</th>\n",
       "      <th>4/15/2020</th>\n",
       "      <th>4/16/2020</th>\n",
       "      <th>4/17/2020</th>\n",
       "      <th>4/18/2020</th>\n",
       "      <th>4/19/2020</th>\n",
       "      <th>4/20/2020</th>\n",
       "      <th>4/21/2020</th>\n",
       "      <th>4/22/2020</th>\n",
       "      <th>4/23/2020</th>\n",
       "      <th>...</th>\n",
       "      <th>7/22/2020</th>\n",
       "      <th>7/23/2020</th>\n",
       "      <th>7/24/2020</th>\n",
       "      <th>7/25/2020</th>\n",
       "      <th>7/26/2020</th>\n",
       "      <th>7/27/2020</th>\n",
       "      <th>7/28/2020</th>\n",
       "      <th>7/29/2020</th>\n",
       "      <th>7/30/2020</th>\n",
       "      <th>7/31/2020</th>\n",
       "    </tr>\n",
       "  </thead>\n",
       "  <tbody>\n",
       "    <tr>\n",
       "      <th>37</th>\n",
       "      <td>San Francisco</td>\n",
       "      <td>987</td>\n",
       "      <td>1013</td>\n",
       "      <td>1019</td>\n",
       "      <td>1058</td>\n",
       "      <td>1137</td>\n",
       "      <td>1157</td>\n",
       "      <td>1216</td>\n",
       "      <td>1231</td>\n",
       "      <td>1233</td>\n",
       "      <td>...</td>\n",
       "      <td>5363</td>\n",
       "      <td>5459</td>\n",
       "      <td>5564</td>\n",
       "      <td>5679</td>\n",
       "      <td>5787</td>\n",
       "      <td>5932</td>\n",
       "      <td>6022</td>\n",
       "      <td>6065</td>\n",
       "      <td>6197</td>\n",
       "      <td>6423</td>\n",
       "    </tr>\n",
       "  </tbody>\n",
       "</table>\n",
       "<p>1 rows × 109 columns</p>\n",
       "</div>"
      ],
      "text/plain": [
       "           county  4/15/2020  4/16/2020  4/17/2020  4/18/2020  4/19/2020  \\\n",
       "37  San Francisco        987       1013       1019       1058       1137   \n",
       "\n",
       "    4/20/2020  4/21/2020  4/22/2020  4/23/2020  ...  7/22/2020  7/23/2020  \\\n",
       "37       1157       1216       1231       1233  ...       5363       5459   \n",
       "\n",
       "    7/24/2020  7/25/2020  7/26/2020  7/27/2020  7/28/2020  7/29/2020  \\\n",
       "37       5564       5679       5787       5932       6022       6065   \n",
       "\n",
       "    7/30/2020  7/31/2020  \n",
       "37       6197       6423  \n",
       "\n",
       "[1 rows x 109 columns]"
      ]
     },
     "execution_count": 36,
     "metadata": {},
     "output_type": "execute_result"
    }
   ],
   "source": [
    "total_no_of_cases_WR1 = total_no_of_cases_WR1.loc[total_no_of_cases_WR1['county'] == 'San Francisco']\n",
    "total_no_of_cases_WR1.head()"
   ]
  },
  {
   "cell_type": "markdown",
   "metadata": {},
   "source": [
    "3c: Aggregate all cases per dates"
   ]
  },
  {
   "cell_type": "code",
   "execution_count": 37,
   "metadata": {},
   "outputs": [
    {
     "data": {
      "text/html": [
       "<div>\n",
       "<style scoped>\n",
       "    .dataframe tbody tr th:only-of-type {\n",
       "        vertical-align: middle;\n",
       "    }\n",
       "\n",
       "    .dataframe tbody tr th {\n",
       "        vertical-align: top;\n",
       "    }\n",
       "\n",
       "    .dataframe thead th {\n",
       "        text-align: right;\n",
       "    }\n",
       "</style>\n",
       "<table border=\"1\" class=\"dataframe\">\n",
       "  <thead>\n",
       "    <tr style=\"text-align: right;\">\n",
       "      <th></th>\n",
       "      <th>county</th>\n",
       "      <th>date</th>\n",
       "      <th>cumulative_total_population_cases</th>\n",
       "    </tr>\n",
       "  </thead>\n",
       "  <tbody>\n",
       "    <tr>\n",
       "      <th>0</th>\n",
       "      <td>San Francisco</td>\n",
       "      <td>4/15/2020</td>\n",
       "      <td>987</td>\n",
       "    </tr>\n",
       "    <tr>\n",
       "      <th>1</th>\n",
       "      <td>San Francisco</td>\n",
       "      <td>4/16/2020</td>\n",
       "      <td>1013</td>\n",
       "    </tr>\n",
       "    <tr>\n",
       "      <th>2</th>\n",
       "      <td>San Francisco</td>\n",
       "      <td>4/17/2020</td>\n",
       "      <td>1019</td>\n",
       "    </tr>\n",
       "    <tr>\n",
       "      <th>3</th>\n",
       "      <td>San Francisco</td>\n",
       "      <td>4/18/2020</td>\n",
       "      <td>1058</td>\n",
       "    </tr>\n",
       "    <tr>\n",
       "      <th>4</th>\n",
       "      <td>San Francisco</td>\n",
       "      <td>4/19/2020</td>\n",
       "      <td>1137</td>\n",
       "    </tr>\n",
       "  </tbody>\n",
       "</table>\n",
       "</div>"
      ],
      "text/plain": [
       "          county       date  cumulative_total_population_cases\n",
       "0  San Francisco  4/15/2020                                987\n",
       "1  San Francisco  4/16/2020                               1013\n",
       "2  San Francisco  4/17/2020                               1019\n",
       "3  San Francisco  4/18/2020                               1058\n",
       "4  San Francisco  4/19/2020                               1137"
      ]
     },
     "execution_count": 37,
     "metadata": {},
     "output_type": "execute_result"
    }
   ],
   "source": [
    "total_no_of_cases_WR2 = pd.melt(total_no_of_cases_WR1, id_vars='county', var_name='date',\n",
    "value_name='cumulative_total_population_cases')\n",
    "total_no_of_cases_WR2.head()"
   ]
  },
  {
   "cell_type": "markdown",
   "metadata": {},
   "source": [
    "3e: Combining datasets together."
   ]
  },
  {
   "cell_type": "markdown",
   "metadata": {},
   "source": [
    "First, we'll merge  as an inner Join \"total_no_of_cases_W2\" with \"covid19_cases_by_homelessness_status\" by 'date'"
   ]
  },
  {
   "cell_type": "code",
   "execution_count": 38,
   "metadata": {},
   "outputs": [
    {
     "data": {
      "text/html": [
       "<div>\n",
       "<style scoped>\n",
       "    .dataframe tbody tr th:only-of-type {\n",
       "        vertical-align: middle;\n",
       "    }\n",
       "\n",
       "    .dataframe tbody tr th {\n",
       "        vertical-align: top;\n",
       "    }\n",
       "\n",
       "    .dataframe thead th {\n",
       "        text-align: right;\n",
       "    }\n",
       "</style>\n",
       "<table border=\"1\" class=\"dataframe\">\n",
       "  <thead>\n",
       "    <tr style=\"text-align: right;\">\n",
       "      <th></th>\n",
       "      <th>county</th>\n",
       "      <th>date</th>\n",
       "      <th>cumulative_total_population_cases</th>\n",
       "      <th>cumulative_homeless_cases</th>\n",
       "      <th>cumulative_general_public_cases</th>\n",
       "      <th>total_population_by_percentage</th>\n",
       "      <th>homless_population_by_percentage</th>\n",
       "      <th>general_public_population_by_percentage</th>\n",
       "    </tr>\n",
       "  </thead>\n",
       "  <tbody>\n",
       "    <tr>\n",
       "      <th>0</th>\n",
       "      <td>San Francisco</td>\n",
       "      <td>4/15/2020</td>\n",
       "      <td>987</td>\n",
       "      <td>119.0</td>\n",
       "      <td>868.0</td>\n",
       "      <td>0.111739433</td>\n",
       "      <td>1.216271</td>\n",
       "      <td>0.099368</td>\n",
       "    </tr>\n",
       "    <tr>\n",
       "      <th>1</th>\n",
       "      <td>San Francisco</td>\n",
       "      <td>4/16/2020</td>\n",
       "      <td>1013</td>\n",
       "      <td>120.0</td>\n",
       "      <td>893.0</td>\n",
       "      <td>0.114682924</td>\n",
       "      <td>1.226492</td>\n",
       "      <td>0.102230</td>\n",
       "    </tr>\n",
       "    <tr>\n",
       "      <th>2</th>\n",
       "      <td>San Francisco</td>\n",
       "      <td>4/17/2020</td>\n",
       "      <td>1019</td>\n",
       "      <td>123.0</td>\n",
       "      <td>896.0</td>\n",
       "      <td>0.115362191</td>\n",
       "      <td>1.257155</td>\n",
       "      <td>0.102573</td>\n",
       "    </tr>\n",
       "    <tr>\n",
       "      <th>3</th>\n",
       "      <td>San Francisco</td>\n",
       "      <td>4/18/2020</td>\n",
       "      <td>1058</td>\n",
       "      <td>123.0</td>\n",
       "      <td>935.0</td>\n",
       "      <td>0.119777427</td>\n",
       "      <td>1.257155</td>\n",
       "      <td>0.107038</td>\n",
       "    </tr>\n",
       "    <tr>\n",
       "      <th>4</th>\n",
       "      <td>San Francisco</td>\n",
       "      <td>4/19/2020</td>\n",
       "      <td>1137</td>\n",
       "      <td>126.0</td>\n",
       "      <td>1011.0</td>\n",
       "      <td>0.12872111</td>\n",
       "      <td>1.287817</td>\n",
       "      <td>0.115738</td>\n",
       "    </tr>\n",
       "  </tbody>\n",
       "</table>\n",
       "</div>"
      ],
      "text/plain": [
       "          county       date  cumulative_total_population_cases  \\\n",
       "0  San Francisco  4/15/2020                                987   \n",
       "1  San Francisco  4/16/2020                               1013   \n",
       "2  San Francisco  4/17/2020                               1019   \n",
       "3  San Francisco  4/18/2020                               1058   \n",
       "4  San Francisco  4/19/2020                               1137   \n",
       "\n",
       "   cumulative_homeless_cases  cumulative_general_public_cases  \\\n",
       "0                      119.0                            868.0   \n",
       "1                      120.0                            893.0   \n",
       "2                      123.0                            896.0   \n",
       "3                      123.0                            935.0   \n",
       "4                      126.0                           1011.0   \n",
       "\n",
       "  total_population_by_percentage   homless_population_by_percentage   \\\n",
       "0                     0.111739433                           1.216271   \n",
       "1                     0.114682924                           1.226492   \n",
       "2                     0.115362191                           1.257155   \n",
       "3                     0.119777427                           1.257155   \n",
       "4                      0.12872111                           1.287817   \n",
       "\n",
       "   general_public_population_by_percentage  \n",
       "0                                 0.099368  \n",
       "1                                 0.102230  \n",
       "2                                 0.102573  \n",
       "3                                 0.107038  \n",
       "4                                 0.115738  "
      ]
     },
     "execution_count": 38,
     "metadata": {},
     "output_type": "execute_result"
    }
   ],
   "source": [
    "covid19_homeless_impact_WR1 = pd.merge(total_no_of_cases_WR2, covid19_cases_by_homelessness_status, on='date')\n",
    "covid19_homeless_impact_WR1.head()"
   ]
  },
  {
   "cell_type": "markdown",
   "metadata": {},
   "source": [
    "Second, we'll merge  as an inner Join \"covid19_homeless_impact_WR1\" with \"covid19_homeless_impact\" by 'date' & 'county'"
   ]
  },
  {
   "cell_type": "code",
   "execution_count": 72,
   "metadata": {},
   "outputs": [
    {
     "data": {
      "text/html": [
       "<div>\n",
       "<style scoped>\n",
       "    .dataframe tbody tr th:only-of-type {\n",
       "        vertical-align: middle;\n",
       "    }\n",
       "\n",
       "    .dataframe tbody tr th {\n",
       "        vertical-align: top;\n",
       "    }\n",
       "\n",
       "    .dataframe thead th {\n",
       "        text-align: right;\n",
       "    }\n",
       "</style>\n",
       "<table border=\"1\" class=\"dataframe\">\n",
       "  <thead>\n",
       "    <tr style=\"text-align: right;\">\n",
       "      <th></th>\n",
       "      <th>date</th>\n",
       "      <th>county</th>\n",
       "      <th>rooms</th>\n",
       "      <th>rooms_occupied</th>\n",
       "      <th>trailers_requested</th>\n",
       "      <th>trailers_delivered</th>\n",
       "      <th>donated_trailers_delivered</th>\n",
       "      <th>cumulative_total_population_cases</th>\n",
       "      <th>cumulative_homeless_cases</th>\n",
       "      <th>cumulative_general_public_cases</th>\n",
       "      <th>total_population_by_percentage</th>\n",
       "      <th>homless_population_by_percentage</th>\n",
       "      <th>general_public_population_by_percentage</th>\n",
       "    </tr>\n",
       "  </thead>\n",
       "  <tbody>\n",
       "    <tr>\n",
       "      <th>0</th>\n",
       "      <td>4/15/2020</td>\n",
       "      <td>San Francisco</td>\n",
       "      <td>1012</td>\n",
       "      <td>751</td>\n",
       "      <td>0</td>\n",
       "      <td>0</td>\n",
       "      <td>0</td>\n",
       "      <td>987</td>\n",
       "      <td>119.0</td>\n",
       "      <td>868.0</td>\n",
       "      <td>0.111739433</td>\n",
       "      <td>1.216271</td>\n",
       "      <td>0.099368</td>\n",
       "    </tr>\n",
       "    <tr>\n",
       "      <th>1</th>\n",
       "      <td>4/16/2020</td>\n",
       "      <td>San Francisco</td>\n",
       "      <td>1271</td>\n",
       "      <td>748</td>\n",
       "      <td>0</td>\n",
       "      <td>0</td>\n",
       "      <td>0</td>\n",
       "      <td>1013</td>\n",
       "      <td>120.0</td>\n",
       "      <td>893.0</td>\n",
       "      <td>0.114682924</td>\n",
       "      <td>1.226492</td>\n",
       "      <td>0.102230</td>\n",
       "    </tr>\n",
       "    <tr>\n",
       "      <th>2</th>\n",
       "      <td>4/17/2020</td>\n",
       "      <td>San Francisco</td>\n",
       "      <td>1271</td>\n",
       "      <td>748</td>\n",
       "      <td>0</td>\n",
       "      <td>0</td>\n",
       "      <td>0</td>\n",
       "      <td>1019</td>\n",
       "      <td>123.0</td>\n",
       "      <td>896.0</td>\n",
       "      <td>0.115362191</td>\n",
       "      <td>1.257155</td>\n",
       "      <td>0.102573</td>\n",
       "    </tr>\n",
       "    <tr>\n",
       "      <th>3</th>\n",
       "      <td>4/18/2020</td>\n",
       "      <td>San Francisco</td>\n",
       "      <td>1271</td>\n",
       "      <td>710</td>\n",
       "      <td>0</td>\n",
       "      <td>0</td>\n",
       "      <td>0</td>\n",
       "      <td>1058</td>\n",
       "      <td>123.0</td>\n",
       "      <td>935.0</td>\n",
       "      <td>0.119777427</td>\n",
       "      <td>1.257155</td>\n",
       "      <td>0.107038</td>\n",
       "    </tr>\n",
       "    <tr>\n",
       "      <th>4</th>\n",
       "      <td>4/19/2020</td>\n",
       "      <td>San Francisco</td>\n",
       "      <td>1273</td>\n",
       "      <td>725</td>\n",
       "      <td>0</td>\n",
       "      <td>0</td>\n",
       "      <td>0</td>\n",
       "      <td>1137</td>\n",
       "      <td>126.0</td>\n",
       "      <td>1011.0</td>\n",
       "      <td>0.12872111</td>\n",
       "      <td>1.287817</td>\n",
       "      <td>0.115738</td>\n",
       "    </tr>\n",
       "  </tbody>\n",
       "</table>\n",
       "</div>"
      ],
      "text/plain": [
       "        date         county  rooms  rooms_occupied  trailers_requested  \\\n",
       "0  4/15/2020  San Francisco   1012             751                   0   \n",
       "1  4/16/2020  San Francisco   1271             748                   0   \n",
       "2  4/17/2020  San Francisco   1271             748                   0   \n",
       "3  4/18/2020  San Francisco   1271             710                   0   \n",
       "4  4/19/2020  San Francisco   1273             725                   0   \n",
       "\n",
       "   trailers_delivered  donated_trailers_delivered  \\\n",
       "0                   0                           0   \n",
       "1                   0                           0   \n",
       "2                   0                           0   \n",
       "3                   0                           0   \n",
       "4                   0                           0   \n",
       "\n",
       "   cumulative_total_population_cases  cumulative_homeless_cases  \\\n",
       "0                                987                      119.0   \n",
       "1                               1013                      120.0   \n",
       "2                               1019                      123.0   \n",
       "3                               1058                      123.0   \n",
       "4                               1137                      126.0   \n",
       "\n",
       "   cumulative_general_public_cases total_population_by_percentage   \\\n",
       "0                            868.0                     0.111739433   \n",
       "1                            893.0                     0.114682924   \n",
       "2                            896.0                     0.115362191   \n",
       "3                            935.0                     0.119777427   \n",
       "4                           1011.0                      0.12872111   \n",
       "\n",
       "   homless_population_by_percentage   general_public_population_by_percentage  \n",
       "0                           1.216271                                 0.099368  \n",
       "1                           1.226492                                 0.102230  \n",
       "2                           1.257155                                 0.102573  \n",
       "3                           1.257155                                 0.107038  \n",
       "4                           1.287817                                 0.115738  "
      ]
     },
     "execution_count": 72,
     "metadata": {},
     "output_type": "execute_result"
    }
   ],
   "source": [
    "covid19_homeless_impact_WR2_py = pd.merge(covid19_homeless_impact, covid19_homeless_impact_WR1, on=['date', 'county'])\n",
    "covid19_homeless_impact_WR2_py.head()"
   ]
  },
  {
   "cell_type": "markdown",
   "metadata": {},
   "source": [
    "Second, we'll merge this clean Dataset \"covid19_homeless_impact_WR1\" with our final 3rd Dataset \"covid19_cases_by_homelessness_status\" to add more variables of interests. \n"
   ]
  },
  {
   "cell_type": "markdown",
   "metadata": {},
   "source": [
    "3f: export this clean Dataset \"covid19_homeless_impact_WR2\" to CSV format"
   ]
  },
  {
   "cell_type": "code",
   "execution_count": 44,
   "metadata": {},
   "outputs": [],
   "source": [
    "covid19_homeless_impact_WR2_py.to_csv(r'C:\\Users\\engma\\Desktop\\BST\\DSO110-Final Group Project\\DFT_Group\\covid19_homeless_impact_WR2_py.csv')"
   ]
  },
  {
   "cell_type": "markdown",
   "metadata": {},
   "source": [
    "# 4- Run the Analysis"
   ]
  },
  {
   "cell_type": "markdown",
   "metadata": {},
   "source": [
    "Question Setup:\n",
    "    Have the rooms availability in the homeless shelters been affected by the covid cases in the county of San Francisco"
   ]
  },
  {
   "cell_type": "markdown",
   "metadata": {},
   "source": [
    "We'll run Independent Chi-Square to determine whether \"rooms_occupied\" variable is influencing \"rooms\" variable which will answer the availablity question. "
   ]
  },
  {
   "cell_type": "markdown",
   "metadata": {},
   "source": [
    "### 4a: Recoding variables into categorical variables"
   ]
  },
  {
   "cell_type": "markdown",
   "metadata": {},
   "source": [
    "Recoding 'rooms' into a categorical variable"
   ]
  },
  {
   "cell_type": "code",
   "execution_count": 56,
   "metadata": {},
   "outputs": [],
   "source": [
    "def rooms_Cap (series): \n",
    "    if series <= 2000:\n",
    "        return 0\n",
    "    if series > 2000: \n",
    "        return 1"
   ]
  },
  {
   "cell_type": "code",
   "execution_count": 57,
   "metadata": {},
   "outputs": [],
   "source": [
    "covid19_homeless_impact_WR2_py['roomsR'] = covid19_homeless_impact_WR2_py['rooms'].apply(rooms_Cap)"
   ]
  },
  {
   "cell_type": "code",
   "execution_count": 58,
   "metadata": {},
   "outputs": [
    {
     "data": {
      "text/plain": [
       "<matplotlib.axes._subplots.AxesSubplot at 0xa3783a0>"
      ]
     },
     "execution_count": 58,
     "metadata": {},
     "output_type": "execute_result"
    },
    {
     "data": {
      "image/png": "[encoded data removed]",
      "text/plain": [
       "<Figure size 432x288 with 1 Axes>"
      ]
     },
     "metadata": {
      "needs_background": "light"
     },
     "output_type": "display_data"
    }
   ],
   "source": [
    "sns.distplot(covid19_homeless_impact_WR2_py['roomsR'])"
   ]
  },
  {
   "cell_type": "markdown",
   "metadata": {},
   "source": [
    "Recoding 'rooms_occupied' into a categorical variable"
   ]
  },
  {
   "cell_type": "code",
   "execution_count": 59,
   "metadata": {},
   "outputs": [],
   "source": [
    "def rooms_Occ (series): \n",
    "    if series <= 1000:\n",
    "        return 0\n",
    "    if series > 1000: \n",
    "        return 1"
   ]
  },
  {
   "cell_type": "code",
   "execution_count": 60,
   "metadata": {},
   "outputs": [],
   "source": [
    "covid19_homeless_impact_WR2_py['rooms_occupiedR'] = covid19_homeless_impact_WR2_py['rooms_occupied'].apply(rooms_Occ)"
   ]
  },
  {
   "cell_type": "code",
   "execution_count": 61,
   "metadata": {},
   "outputs": [
    {
     "data": {
      "text/plain": [
       "<matplotlib.axes._subplots.AxesSubplot at 0xa3b5790>"
      ]
     },
     "execution_count": 61,
     "metadata": {},
     "output_type": "execute_result"
    },
    {
     "data": {
      "image/png": "[encoded data removed]",
      "text/plain": [
       "<Figure size 432x288 with 1 Axes>"
      ]
     },
     "metadata": {
      "needs_background": "light"
     },
     "output_type": "display_data"
    }
   ],
   "source": [
    "sns.distplot(covid19_homeless_impact_WR2_py['rooms_occupiedR'])"
   ]
  },
  {
   "cell_type": "markdown",
   "metadata": {},
   "source": [
    "### 4b: Create a Contingency Table"
   ]
  },
  {
   "cell_type": "code",
   "execution_count": 62,
   "metadata": {},
   "outputs": [],
   "source": [
    "covid19_homeless_impact_WR2_py_CrossTab = pd.crosstab(covid19_homeless_impact_WR2_py['roomsR'], covid19_homeless_impact_WR2_py['rooms_occupiedR'])"
   ]
  },
  {
   "cell_type": "code",
   "execution_count": 63,
   "metadata": {},
   "outputs": [
    {
     "data": {
      "text/html": [
       "<div>\n",
       "<style scoped>\n",
       "    .dataframe tbody tr th:only-of-type {\n",
       "        vertical-align: middle;\n",
       "    }\n",
       "\n",
       "    .dataframe tbody tr th {\n",
       "        vertical-align: top;\n",
       "    }\n",
       "\n",
       "    .dataframe thead th {\n",
       "        text-align: right;\n",
       "    }\n",
       "</style>\n",
       "<table border=\"1\" class=\"dataframe\">\n",
       "  <thead>\n",
       "    <tr style=\"text-align: right;\">\n",
       "      <th>rooms_occupiedR</th>\n",
       "      <th>0</th>\n",
       "      <th>1</th>\n",
       "    </tr>\n",
       "    <tr>\n",
       "      <th>roomsR</th>\n",
       "      <th></th>\n",
       "      <th></th>\n",
       "    </tr>\n",
       "  </thead>\n",
       "  <tbody>\n",
       "    <tr>\n",
       "      <th>0</th>\n",
       "      <td>24</td>\n",
       "      <td>0</td>\n",
       "    </tr>\n",
       "    <tr>\n",
       "      <th>1</th>\n",
       "      <td>12</td>\n",
       "      <td>54</td>\n",
       "    </tr>\n",
       "  </tbody>\n",
       "</table>\n",
       "</div>"
      ],
      "text/plain": [
       "rooms_occupiedR   0   1\n",
       "roomsR                 \n",
       "0                24   0\n",
       "1                12  54"
      ]
     },
     "execution_count": 63,
     "metadata": {},
     "output_type": "execute_result"
    }
   ],
   "source": [
    "covid19_homeless_impact_WR2_py_CrossTab"
   ]
  },
  {
   "cell_type": "markdown",
   "metadata": {},
   "source": [
    "### 4c: Running the Independent Chi-Square"
   ]
  },
  {
   "cell_type": "code",
   "execution_count": 64,
   "metadata": {},
   "outputs": [
    {
     "data": {
      "text/plain": [
       "(45.74100378787879,\n",
       " 1.3496777680296932e-11,\n",
       " 1,\n",
       " array([[ 9.6, 14.4],\n",
       "        [26.4, 39.6]]))"
      ]
     },
     "execution_count": 64,
     "metadata": {},
     "output_type": "execute_result"
    }
   ],
   "source": [
    "scipy.stats.chi2_contingency(covid19_homeless_impact_WR2_py_CrossTab)\n"
   ]
  },
  {
   "cell_type": "code",
   "execution_count": null,
   "metadata": {},
   "outputs": [],
   "source": []
  },
  {
   "cell_type": "markdown",
   "metadata": {},
   "source": [
    "### 4d: Test the Assumption of 5 Cases per Expected Cell"
   ]
  },
  {
   "cell_type": "markdown",
   "metadata": {},
   "source": [
    "Looking at the array values. all of these values are over 5, this means that the assumption has been met."
   ]
  },
  {
   "cell_type": "markdown",
   "metadata": {},
   "source": [
    "# Q2:Online source has stated that the homeless population was hit 80% harder compared to the public. "
   ]
  },
  {
   "cell_type": "markdown",
   "metadata": {},
   "source": [
    "We'll work with \"covid19_homeless_impact_WR2_py\" dataset."
   ]
  },
  {
   "cell_type": "markdown",
   "metadata": {},
   "source": [
    "### 1- We'll need to get the total number of 'cumulative_homeless_cases' up to date and the 'cumulative_general_public_cases'"
   ]
  },
  {
   "cell_type": "code",
   "execution_count": 65,
   "metadata": {},
   "outputs": [
    {
     "data": {
      "text/plain": [
       "85    244.0\n",
       "86    246.0\n",
       "87    246.0\n",
       "88    246.0\n",
       "89    246.0\n",
       "Name: cumulative_homeless_cases, dtype: float64"
      ]
     },
     "execution_count": 65,
     "metadata": {},
     "output_type": "execute_result"
    }
   ],
   "source": [
    "covid19_homeless_impact_WR2_py.cumulative_homeless_cases.tail()"
   ]
  },
  {
   "cell_type": "code",
   "execution_count": 66,
   "metadata": {},
   "outputs": [
    {
     "data": {
      "text/plain": [
       "85    5688.0\n",
       "86    5776.0\n",
       "87    5819.0\n",
       "88    5951.0\n",
       "89    6177.0\n",
       "Name: cumulative_general_public_cases, dtype: float64"
      ]
     },
     "execution_count": 66,
     "metadata": {},
     "output_type": "execute_result"
    }
   ],
   "source": [
    "covid19_homeless_impact_WR2_py.cumulative_general_public_cases.tail()"
   ]
  },
  {
   "cell_type": "markdown",
   "metadata": {},
   "source": [
    "# 2- Run the Analysis"
   ]
  },
  {
   "cell_type": "markdown",
   "metadata": {},
   "source": [
    "### Run Goodness of Fit Chi-Squares Analysis"
   ]
  },
  {
   "cell_type": "code",
   "execution_count": 67,
   "metadata": {},
   "outputs": [],
   "source": [
    "observed_values = np.array([246, 6177])"
   ]
  },
  {
   "cell_type": "code",
   "execution_count": 68,
   "metadata": {},
   "outputs": [],
   "source": [
    "expected_values = np.array([5138, 1285])"
   ]
  },
  {
   "cell_type": "code",
   "execution_count": 69,
   "metadata": {},
   "outputs": [
    {
     "data": {
      "text/plain": [
       "Power_divergenceResult(statistic=23281.641158803028, pvalue=0.0)"
      ]
     },
     "execution_count": 69,
     "metadata": {},
     "output_type": "execute_result"
    }
   ],
   "source": [
    "scipy.stats.chisquare(observed_values, f_exp=expected_values)\n"
   ]
  },
  {
   "cell_type": "markdown",
   "metadata": {},
   "source": [
    "P value is less than .05 then there is a signifcant difference between the survey and the actual data. "
   ]
  },
  {
   "cell_type": "markdown",
   "metadata": {},
   "source": [
    "to get the exact precentage for both populatioin. we'll run the two proportion z test to compare the proportions of the homeless_cases & the general_public_cases categories to the whole."
   ]
  },
  {
   "cell_type": "markdown",
   "metadata": {},
   "source": [
    "### Run wo proportion z test Analysis"
   ]
  },
  {
   "cell_type": "markdown",
   "metadata": {},
   "source": [
    "There are 9,784 homesless_population and 873,521 general_public_population in San Francisco, \n",
    "Off the homesless_population 246 are covid19 postive cases, Off the general_public_population 6177 are covid19 postive cases."
   ]
  },
  {
   "cell_type": "code",
   "execution_count": 87,
   "metadata": {},
   "outputs": [
    {
     "name": "stdout",
     "output_type": "stream",
     "text": [
      "20.922324827881948 3.353606264543243e-97\n"
     ]
    }
   ],
   "source": [
    "count = np.array([246, 6177])\n",
    "nobs = np.array([9784, 873521])\n",
    "stat, pval = sp.proportions_ztest(count, nobs)\n",
    "print(stat,pval)"
   ]
  },
  {
   "cell_type": "code",
   "execution_count": null,
   "metadata": {},
   "outputs": [],
   "source": []
  }
 ],
 "metadata": {
  "kernelspec": {
   "display_name": "Python 3",
   "language": "python",
   "name": "python3"
  },
  "language_info": {
   "codemirror_mode": {
    "name": "ipython",
    "version": 3
   },
   "file_extension": ".py",
   "mimetype": "text/x-python",
   "name": "python",
   "nbconvert_exporter": "python",
   "pygments_lexer": "ipython3",
   "version": "3.8.3"
  }
 },
 "nbformat": 4,
 "nbformat_minor": 4
}
