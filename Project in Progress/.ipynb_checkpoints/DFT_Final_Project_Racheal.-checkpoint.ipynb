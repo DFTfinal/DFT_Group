{
 "cells": [
  {
   "cell_type": "code",
   "execution_count": 4,
   "metadata": {},
   "outputs": [],
   "source": [
    "import numpy as np\n",
    "import pandas as pd\n",
    "import seaborn as sns\n",
    "from scipy import stats\n",
    "import matplotlib.pyplot as plt\n",
    "from pylab import *\n",
    "import seaborn as sns\n",
    "%matplotlib inline\n",
    "import  statsmodels.api as sm\n",
    "import statsmodels.stats.api as sms\n",
    "from scipy.stats import boxcox\n",
    "import pandas as pd\n",
    "import numpy as np\n",
    "import scipy\n",
    "from scipy import stats\n",
    "from scipy.stats import ttest_ind\n",
    "from statsmodels.stats.multicomp import pairwise_tukeyhsd\n",
    "from statsmodels.stats.multicomp import MultiComparison"
   ]
  },
  {
   "cell_type": "code",
   "execution_count": 7,
   "metadata": {},
   "outputs": [],
   "source": [
    "dates = pd.read_excel('C:/Users/korab/Desktop/data science/Git Projects/DFT_Group/Dates 2.xlsx')"
   ]
  },
  {
   "cell_type": "code",
   "execution_count": 8,
   "metadata": {},
   "outputs": [
    {
     "data": {
      "text/html": [
       "<div>\n",
       "<style scoped>\n",
       "    .dataframe tbody tr th:only-of-type {\n",
       "        vertical-align: middle;\n",
       "    }\n",
       "\n",
       "    .dataframe tbody tr th {\n",
       "        vertical-align: top;\n",
       "    }\n",
       "\n",
       "    .dataframe thead th {\n",
       "        text-align: right;\n",
       "    }\n",
       "</style>\n",
       "<table border=\"1\" class=\"dataframe\">\n",
       "  <thead>\n",
       "    <tr style=\"text-align: right;\">\n",
       "      <th></th>\n",
       "      <th>Date</th>\n",
       "      <th>Alameda</th>\n",
       "      <th>Alpine</th>\n",
       "      <th>Amador</th>\n",
       "      <th>Butte</th>\n",
       "      <th>Calaveras</th>\n",
       "      <th>Colusa</th>\n",
       "      <th>Contra Costa</th>\n",
       "      <th>Del Norte</th>\n",
       "      <th>El Dorado</th>\n",
       "      <th>...</th>\n",
       "      <th>Sonoma</th>\n",
       "      <th>Stanislaus</th>\n",
       "      <th>Sutter</th>\n",
       "      <th>Tehama</th>\n",
       "      <th>Trinity</th>\n",
       "      <th>Tulare</th>\n",
       "      <th>Tuolumne</th>\n",
       "      <th>Ventura</th>\n",
       "      <th>Yolo</th>\n",
       "      <th>Yuba</th>\n",
       "    </tr>\n",
       "  </thead>\n",
       "  <tbody>\n",
       "    <tr>\n",
       "      <th>0</th>\n",
       "      <td>2020-04-15</td>\n",
       "      <td>888</td>\n",
       "      <td>2</td>\n",
       "      <td>7</td>\n",
       "      <td>15</td>\n",
       "      <td>9</td>\n",
       "      <td>3</td>\n",
       "      <td>552</td>\n",
       "      <td>2</td>\n",
       "      <td>34</td>\n",
       "      <td>...</td>\n",
       "      <td>152</td>\n",
       "      <td>146</td>\n",
       "      <td>23</td>\n",
       "      <td>1</td>\n",
       "      <td>0</td>\n",
       "      <td>296</td>\n",
       "      <td>1</td>\n",
       "      <td>350</td>\n",
       "      <td>101</td>\n",
       "      <td>15</td>\n",
       "    </tr>\n",
       "    <tr>\n",
       "      <th>1</th>\n",
       "      <td>2020-04-16</td>\n",
       "      <td>964</td>\n",
       "      <td>2</td>\n",
       "      <td>7</td>\n",
       "      <td>16</td>\n",
       "      <td>9</td>\n",
       "      <td>3</td>\n",
       "      <td>615</td>\n",
       "      <td>2</td>\n",
       "      <td>35</td>\n",
       "      <td>...</td>\n",
       "      <td>160</td>\n",
       "      <td>163</td>\n",
       "      <td>24</td>\n",
       "      <td>1</td>\n",
       "      <td>0</td>\n",
       "      <td>352</td>\n",
       "      <td>2</td>\n",
       "      <td>365</td>\n",
       "      <td>102</td>\n",
       "      <td>15</td>\n",
       "    </tr>\n",
       "    <tr>\n",
       "      <th>2</th>\n",
       "      <td>2020-04-17</td>\n",
       "      <td>1007</td>\n",
       "      <td>2</td>\n",
       "      <td>7</td>\n",
       "      <td>16</td>\n",
       "      <td>11</td>\n",
       "      <td>3</td>\n",
       "      <td>631</td>\n",
       "      <td>2</td>\n",
       "      <td>35</td>\n",
       "      <td>...</td>\n",
       "      <td>163</td>\n",
       "      <td>177</td>\n",
       "      <td>24</td>\n",
       "      <td>1</td>\n",
       "      <td>0</td>\n",
       "      <td>372</td>\n",
       "      <td>2</td>\n",
       "      <td>384</td>\n",
       "      <td>116</td>\n",
       "      <td>15</td>\n",
       "    </tr>\n",
       "    <tr>\n",
       "      <th>3</th>\n",
       "      <td>2020-04-18</td>\n",
       "      <td>1063</td>\n",
       "      <td>2</td>\n",
       "      <td>7</td>\n",
       "      <td>16</td>\n",
       "      <td>11</td>\n",
       "      <td>3</td>\n",
       "      <td>648</td>\n",
       "      <td>2</td>\n",
       "      <td>36</td>\n",
       "      <td>...</td>\n",
       "      <td>172</td>\n",
       "      <td>187</td>\n",
       "      <td>24</td>\n",
       "      <td>1</td>\n",
       "      <td>0</td>\n",
       "      <td>382</td>\n",
       "      <td>2</td>\n",
       "      <td>396</td>\n",
       "      <td>125</td>\n",
       "      <td>15</td>\n",
       "    </tr>\n",
       "    <tr>\n",
       "      <th>4</th>\n",
       "      <td>2020-04-19</td>\n",
       "      <td>1114</td>\n",
       "      <td>2</td>\n",
       "      <td>7</td>\n",
       "      <td>16</td>\n",
       "      <td>12</td>\n",
       "      <td>3</td>\n",
       "      <td>685</td>\n",
       "      <td>2</td>\n",
       "      <td>36</td>\n",
       "      <td>...</td>\n",
       "      <td>180</td>\n",
       "      <td>206</td>\n",
       "      <td>25</td>\n",
       "      <td>1</td>\n",
       "      <td>0</td>\n",
       "      <td>397</td>\n",
       "      <td>2</td>\n",
       "      <td>416</td>\n",
       "      <td>126</td>\n",
       "      <td>15</td>\n",
       "    </tr>\n",
       "    <tr>\n",
       "      <th>...</th>\n",
       "      <td>...</td>\n",
       "      <td>...</td>\n",
       "      <td>...</td>\n",
       "      <td>...</td>\n",
       "      <td>...</td>\n",
       "      <td>...</td>\n",
       "      <td>...</td>\n",
       "      <td>...</td>\n",
       "      <td>...</td>\n",
       "      <td>...</td>\n",
       "      <td>...</td>\n",
       "      <td>...</td>\n",
       "      <td>...</td>\n",
       "      <td>...</td>\n",
       "      <td>...</td>\n",
       "      <td>...</td>\n",
       "      <td>...</td>\n",
       "      <td>...</td>\n",
       "      <td>...</td>\n",
       "      <td>...</td>\n",
       "      <td>...</td>\n",
       "    </tr>\n",
       "    <tr>\n",
       "      <th>103</th>\n",
       "      <td>2020-07-27</td>\n",
       "      <td>10330</td>\n",
       "      <td>2</td>\n",
       "      <td>76</td>\n",
       "      <td>758</td>\n",
       "      <td>99</td>\n",
       "      <td>263</td>\n",
       "      <td>6933</td>\n",
       "      <td>87</td>\n",
       "      <td>513</td>\n",
       "      <td>...</td>\n",
       "      <td>2599</td>\n",
       "      <td>7861</td>\n",
       "      <td>637</td>\n",
       "      <td>189</td>\n",
       "      <td>3</td>\n",
       "      <td>8210</td>\n",
       "      <td>126</td>\n",
       "      <td>6392</td>\n",
       "      <td>1394</td>\n",
       "      <td>372</td>\n",
       "    </tr>\n",
       "    <tr>\n",
       "      <th>104</th>\n",
       "      <td>2020-07-28</td>\n",
       "      <td>10438</td>\n",
       "      <td>2</td>\n",
       "      <td>81</td>\n",
       "      <td>820</td>\n",
       "      <td>99</td>\n",
       "      <td>273</td>\n",
       "      <td>7073</td>\n",
       "      <td>87</td>\n",
       "      <td>513</td>\n",
       "      <td>...</td>\n",
       "      <td>2599</td>\n",
       "      <td>7994</td>\n",
       "      <td>647</td>\n",
       "      <td>189</td>\n",
       "      <td>3</td>\n",
       "      <td>8534</td>\n",
       "      <td>131</td>\n",
       "      <td>6392</td>\n",
       "      <td>1424</td>\n",
       "      <td>382</td>\n",
       "    </tr>\n",
       "    <tr>\n",
       "      <th>105</th>\n",
       "      <td>2020-07-29</td>\n",
       "      <td>10633</td>\n",
       "      <td>2</td>\n",
       "      <td>84</td>\n",
       "      <td>866</td>\n",
       "      <td>99</td>\n",
       "      <td>292</td>\n",
       "      <td>7304</td>\n",
       "      <td>88</td>\n",
       "      <td>555</td>\n",
       "      <td>...</td>\n",
       "      <td>2617</td>\n",
       "      <td>8228</td>\n",
       "      <td>670</td>\n",
       "      <td>214</td>\n",
       "      <td>3</td>\n",
       "      <td>8862</td>\n",
       "      <td>131</td>\n",
       "      <td>6830</td>\n",
       "      <td>1446</td>\n",
       "      <td>397</td>\n",
       "    </tr>\n",
       "    <tr>\n",
       "      <th>106</th>\n",
       "      <td>2020-07-30</td>\n",
       "      <td>10773</td>\n",
       "      <td>2</td>\n",
       "      <td>89</td>\n",
       "      <td>883</td>\n",
       "      <td>108</td>\n",
       "      <td>304</td>\n",
       "      <td>7714</td>\n",
       "      <td>88</td>\n",
       "      <td>589</td>\n",
       "      <td>...</td>\n",
       "      <td>2662</td>\n",
       "      <td>8492</td>\n",
       "      <td>731</td>\n",
       "      <td>219</td>\n",
       "      <td>4</td>\n",
       "      <td>9076</td>\n",
       "      <td>132</td>\n",
       "      <td>6997</td>\n",
       "      <td>1477</td>\n",
       "      <td>441</td>\n",
       "    </tr>\n",
       "    <tr>\n",
       "      <th>107</th>\n",
       "      <td>2020-07-31</td>\n",
       "      <td>11131</td>\n",
       "      <td>2</td>\n",
       "      <td>110</td>\n",
       "      <td>907</td>\n",
       "      <td>108</td>\n",
       "      <td>312</td>\n",
       "      <td>7577</td>\n",
       "      <td>88</td>\n",
       "      <td>613</td>\n",
       "      <td>...</td>\n",
       "      <td>2748</td>\n",
       "      <td>8745</td>\n",
       "      <td>731</td>\n",
       "      <td>227</td>\n",
       "      <td>5</td>\n",
       "      <td>9241</td>\n",
       "      <td>134</td>\n",
       "      <td>7103</td>\n",
       "      <td>1494</td>\n",
       "      <td>441</td>\n",
       "    </tr>\n",
       "  </tbody>\n",
       "</table>\n",
       "<p>108 rows × 59 columns</p>\n",
       "</div>"
      ],
      "text/plain": [
       "          Date  Alameda  Alpine  Amador  Butte  Calaveras  Colusa  \\\n",
       "0   2020-04-15      888       2       7     15          9       3   \n",
       "1   2020-04-16      964       2       7     16          9       3   \n",
       "2   2020-04-17     1007       2       7     16         11       3   \n",
       "3   2020-04-18     1063       2       7     16         11       3   \n",
       "4   2020-04-19     1114       2       7     16         12       3   \n",
       "..         ...      ...     ...     ...    ...        ...     ...   \n",
       "103 2020-07-27    10330       2      76    758         99     263   \n",
       "104 2020-07-28    10438       2      81    820         99     273   \n",
       "105 2020-07-29    10633       2      84    866         99     292   \n",
       "106 2020-07-30    10773       2      89    883        108     304   \n",
       "107 2020-07-31    11131       2     110    907        108     312   \n",
       "\n",
       "     Contra Costa  Del Norte  El Dorado  ...  Sonoma  Stanislaus  Sutter  \\\n",
       "0             552          2         34  ...     152         146      23   \n",
       "1             615          2         35  ...     160         163      24   \n",
       "2             631          2         35  ...     163         177      24   \n",
       "3             648          2         36  ...     172         187      24   \n",
       "4             685          2         36  ...     180         206      25   \n",
       "..            ...        ...        ...  ...     ...         ...     ...   \n",
       "103          6933         87        513  ...    2599        7861     637   \n",
       "104          7073         87        513  ...    2599        7994     647   \n",
       "105          7304         88        555  ...    2617        8228     670   \n",
       "106          7714         88        589  ...    2662        8492     731   \n",
       "107          7577         88        613  ...    2748        8745     731   \n",
       "\n",
       "     Tehama  Trinity  Tulare  Tuolumne  Ventura  Yolo  Yuba  \n",
       "0         1        0     296         1      350   101    15  \n",
       "1         1        0     352         2      365   102    15  \n",
       "2         1        0     372         2      384   116    15  \n",
       "3         1        0     382         2      396   125    15  \n",
       "4         1        0     397         2      416   126    15  \n",
       "..      ...      ...     ...       ...      ...   ...   ...  \n",
       "103     189        3    8210       126     6392  1394   372  \n",
       "104     189        3    8534       131     6392  1424   382  \n",
       "105     214        3    8862       131     6830  1446   397  \n",
       "106     219        4    9076       132     6997  1477   441  \n",
       "107     227        5    9241       134     7103  1494   441  \n",
       "\n",
       "[108 rows x 59 columns]"
      ]
     },
     "execution_count": 8,
     "metadata": {},
     "output_type": "execute_result"
    }
   ],
   "source": [
    "dates"
   ]
  },
  {
   "cell_type": "code",
   "execution_count": 12,
   "metadata": {},
   "outputs": [
    {
     "data": {
      "text/plain": [
       "<matplotlib.axes._subplots.AxesSubplot at 0x2588ee70d88>"
      ]
     },
     "execution_count": 12,
     "metadata": {},
     "output_type": "execute_result"
    },
    {
     "data": {
      "image/png": "[encoded data removed]",
      "text/plain": [
       "<Figure size 432x288 with 1 Axes>"
      ]
     },
     "metadata": {
      "needs_background": "light"
     },
     "output_type": "display_data"
    }
   ],
   "source": [
    "sns.distplot(dates['San_Francisco'])"
   ]
  },
  {
   "cell_type": "code",
   "execution_count": 10,
   "metadata": {},
   "outputs": [
    {
     "name": "stdout",
     "output_type": "stream",
     "text": [
      "['Date' 'Alameda' 'Alpine' 'Amador' 'Butte' 'Calaveras' 'Colusa'\n",
      " 'Contra Costa' 'Del Norte' 'El Dorado' 'Fresno' 'Glenn' 'Humboldt'\n",
      " 'Imperial' 'Inyo' 'Kern' 'Kings' 'Lake' 'Lassen' 'Los Angeles' 'Madera'\n",
      " 'Marin' 'Mariposa' 'Mendocino' 'Merced' 'Modoc' 'Mono' 'Monterey' 'Napa'\n",
      " 'Nevada' 'Orange' 'Placer' 'Plumas' 'Riverside' 'Sacramento' 'San Benito'\n",
      " 'San Bernardino' 'San Diego' 'San_Francisco' 'San Joaquin'\n",
      " 'San Luis Obispo' 'San Mateo' 'Santa Barbara' 'Santa Clara' 'Santa Cruz'\n",
      " 'Shasta' 'Sierra' 'Siskiyou' 'Solano' 'Sonoma' 'Stanislaus' 'Sutter'\n",
      " 'Tehama' 'Trinity' 'Tulare' 'Tuolumne' 'Ventura' 'Yolo' 'Yuba']\n"
     ]
    }
   ],
   "source": [
    "print(dates.columns.values)"
   ]
  },
  {
   "cell_type": "code",
   "execution_count": 16,
   "metadata": {},
   "outputs": [],
   "source": [
    "datessum = dates.sum(axis=0)"
   ]
  },
  {
   "cell_type": "code",
   "execution_count": 17,
   "metadata": {},
   "outputs": [
    {
     "data": {
      "text/plain": [
       "Alameda             489095\n",
       "Alpine                 214\n",
       "Amador                2386\n",
       "Butte                18715\n",
       "Calaveras             3682\n",
       "Colusa                5491\n",
       "Contra Costa        269887\n",
       "Del Norte             3970\n",
       "El Dorado            17799\n",
       "Fresno              411436\n",
       "Glenn                 7654\n",
       "Humboldt             11870\n",
       "Imperial            399179\n",
       "Inyo                  2752\n",
       "Kern                431127\n",
       "Kings               164163\n",
       "Lake                  5446\n",
       "Lassen               13823\n",
       "Los Angeles        8086346\n",
       "Madera               44463\n",
       "Marin               157872\n",
       "Mariposa              2110\n",
       "Mendocino             7119\n",
       "Merced               93667\n",
       "Modoc                    4\n",
       "Mono                  4693\n",
       "Monterey            133605\n",
       "Napa                 26753\n",
       "Nevada                9835\n",
       "Orange             1229575\n",
       "Placer               57497\n",
       "Plumas                 970\n",
       "Riverside          1401230\n",
       "Sacramento          306701\n",
       "San Benito           19242\n",
       "San Bernardino     1027124\n",
       "San Diego          1166483\n",
       "San_Francisco       321809\n",
       "San Joaquin         313443\n",
       "San Luis Obispo      55448\n",
       "San Mateo           274236\n",
       "Santa Barbara       245541\n",
       "Santa Clara         421146\n",
       "Santa Cruz           35802\n",
       "Shasta               10183\n",
       "Sierra                  73\n",
       "Siskiyou              2181\n",
       "Solano              111200\n",
       "Sonoma               96867\n",
       "Stanislaus          224609\n",
       "Sutter               18045\n",
       "Tehama                5069\n",
       "Trinity                154\n",
       "Tulare              329893\n",
       "Tuolumne              2993\n",
       "Ventura             233321\n",
       "Yolo                 47924\n",
       "Yuba                  9483\n",
       "dtype: int64"
      ]
     },
     "execution_count": 17,
     "metadata": {},
     "output_type": "execute_result"
    }
   ],
   "source": [
    "datessum"
   ]
  },
  {
   "cell_type": "code",
   "execution_count": 23,
   "metadata": {},
   "outputs": [
    {
     "data": {
      "text/plain": [
       "<matplotlib.axes._subplots.AxesSubplot at 0x25891774048>"
      ]
     },
     "execution_count": 23,
     "metadata": {},
     "output_type": "execute_result"
    },
    {
     "data": {
      "image/png": "[encoded data removed]",
      "text/plain": [
       "<Figure size 432x288 with 1 Axes>"
      ]
     },
     "metadata": {
      "needs_background": "light"
     },
     "output_type": "display_data"
    }
   ],
   "source": [
    "datessum.plot(kind = 'bar')"
   ]
  },
  {
   "cell_type": "code",
   "execution_count": 25,
   "metadata": {},
   "outputs": [],
   "source": [
    "datessum.to_csv('C:/Users/korab/Desktop/data science/Git Projects/DFT_Group/DatesCountysum.csv')"
   ]
  },
  {
   "cell_type": "markdown",
   "metadata": {},
   "source": [
    "# One Proportional z-test"
   ]
  },
  {
   "cell_type": "markdown",
   "metadata": {},
   "source": [
    "# qn is homeless popn being affected the same way as general?"
   ]
  },
  {
   "cell_type": "code",
   "execution_count": 39,
   "metadata": {},
   "outputs": [
    {
     "name": "stdout",
     "output_type": "stream",
     "text": [
      "-192.80155627189816 0.0\n"
     ]
    }
   ],
   "source": [
    "count = 246\n",
    "nobs = 6423\n",
    "value = .5\n",
    "stat, pval = proportions_ztest(count, nobs, value)\n",
    "print(stat, pval)"
   ]
  },
  {
   "cell_type": "markdown",
   "metadata": {},
   "source": [
    "# QN : Are the number of homeless cases affecting the general public. Are the homeless spreading COVID19 because they have no homes?"
   ]
  },
  {
   "cell_type": "markdown",
   "metadata": {},
   "source": [
    "# Linear regression "
   ]
  },
  {
   "cell_type": "code",
   "execution_count": 26,
   "metadata": {},
   "outputs": [],
   "source": [
    "import pandas as pd\n",
    "import numpy as np\n",
    "import matplotlib.pyplot as plt\n",
    "from pylab import *\n",
    "import seaborn as sns\n",
    "from scipy.stats import boxcox\n",
    "from statsmodels.stats.proportion import proportions_ztest"
   ]
  },
  {
   "cell_type": "markdown",
   "metadata": {},
   "source": [
    "### import data"
   ]
  },
  {
   "cell_type": "code",
   "execution_count": 20,
   "metadata": {},
   "outputs": [],
   "source": [
    "SF = pd.read_csv('C:/Users/korab/Desktop/data science/Git Projects/DFT_Group/covid19_homeless_impact_WR2_py.csv')"
   ]
  },
  {
   "cell_type": "code",
   "execution_count": 21,
   "metadata": {
    "scrolled": true
   },
   "outputs": [
    {
     "data": {
      "text/html": [
       "<div>\n",
       "<style scoped>\n",
       "    .dataframe tbody tr th:only-of-type {\n",
       "        vertical-align: middle;\n",
       "    }\n",
       "\n",
       "    .dataframe tbody tr th {\n",
       "        vertical-align: top;\n",
       "    }\n",
       "\n",
       "    .dataframe thead th {\n",
       "        text-align: right;\n",
       "    }\n",
       "</style>\n",
       "<table border=\"1\" class=\"dataframe\">\n",
       "  <thead>\n",
       "    <tr style=\"text-align: right;\">\n",
       "      <th></th>\n",
       "      <th>Unnamed: 0</th>\n",
       "      <th>date</th>\n",
       "      <th>county</th>\n",
       "      <th>rooms</th>\n",
       "      <th>rooms_occupied</th>\n",
       "      <th>trailers_requested</th>\n",
       "      <th>trailers_delivered</th>\n",
       "      <th>donated_trailers_delivered</th>\n",
       "      <th>cumulative_total_population_cases</th>\n",
       "      <th>cumulative_homeless_cases</th>\n",
       "      <th>cumulative_general_public_cases</th>\n",
       "      <th>total_population_by_percentage</th>\n",
       "      <th>homless_population_by_percentage</th>\n",
       "      <th>general_public_population_by_percentage</th>\n",
       "    </tr>\n",
       "  </thead>\n",
       "  <tbody>\n",
       "    <tr>\n",
       "      <th>0</th>\n",
       "      <td>0</td>\n",
       "      <td>4/15/2020</td>\n",
       "      <td>San Francisco</td>\n",
       "      <td>1012</td>\n",
       "      <td>751</td>\n",
       "      <td>0</td>\n",
       "      <td>0</td>\n",
       "      <td>0</td>\n",
       "      <td>987</td>\n",
       "      <td>119</td>\n",
       "      <td>868</td>\n",
       "      <td>0.111739</td>\n",
       "      <td>1.216271</td>\n",
       "      <td>0.099368</td>\n",
       "    </tr>\n",
       "    <tr>\n",
       "      <th>1</th>\n",
       "      <td>1</td>\n",
       "      <td>4/16/2020</td>\n",
       "      <td>San Francisco</td>\n",
       "      <td>1271</td>\n",
       "      <td>748</td>\n",
       "      <td>0</td>\n",
       "      <td>0</td>\n",
       "      <td>0</td>\n",
       "      <td>1013</td>\n",
       "      <td>120</td>\n",
       "      <td>893</td>\n",
       "      <td>0.114683</td>\n",
       "      <td>1.226492</td>\n",
       "      <td>0.102230</td>\n",
       "    </tr>\n",
       "    <tr>\n",
       "      <th>2</th>\n",
       "      <td>2</td>\n",
       "      <td>4/17/2020</td>\n",
       "      <td>San Francisco</td>\n",
       "      <td>1271</td>\n",
       "      <td>748</td>\n",
       "      <td>0</td>\n",
       "      <td>0</td>\n",
       "      <td>0</td>\n",
       "      <td>1019</td>\n",
       "      <td>123</td>\n",
       "      <td>896</td>\n",
       "      <td>0.115362</td>\n",
       "      <td>1.257155</td>\n",
       "      <td>0.102573</td>\n",
       "    </tr>\n",
       "    <tr>\n",
       "      <th>3</th>\n",
       "      <td>3</td>\n",
       "      <td>4/18/2020</td>\n",
       "      <td>San Francisco</td>\n",
       "      <td>1271</td>\n",
       "      <td>710</td>\n",
       "      <td>0</td>\n",
       "      <td>0</td>\n",
       "      <td>0</td>\n",
       "      <td>1058</td>\n",
       "      <td>123</td>\n",
       "      <td>935</td>\n",
       "      <td>0.119777</td>\n",
       "      <td>1.257155</td>\n",
       "      <td>0.107038</td>\n",
       "    </tr>\n",
       "    <tr>\n",
       "      <th>4</th>\n",
       "      <td>4</td>\n",
       "      <td>4/19/2020</td>\n",
       "      <td>San Francisco</td>\n",
       "      <td>1273</td>\n",
       "      <td>725</td>\n",
       "      <td>0</td>\n",
       "      <td>0</td>\n",
       "      <td>0</td>\n",
       "      <td>1137</td>\n",
       "      <td>126</td>\n",
       "      <td>1011</td>\n",
       "      <td>0.128721</td>\n",
       "      <td>1.287817</td>\n",
       "      <td>0.115738</td>\n",
       "    </tr>\n",
       "    <tr>\n",
       "      <th>...</th>\n",
       "      <td>...</td>\n",
       "      <td>...</td>\n",
       "      <td>...</td>\n",
       "      <td>...</td>\n",
       "      <td>...</td>\n",
       "      <td>...</td>\n",
       "      <td>...</td>\n",
       "      <td>...</td>\n",
       "      <td>...</td>\n",
       "      <td>...</td>\n",
       "      <td>...</td>\n",
       "      <td>...</td>\n",
       "      <td>...</td>\n",
       "      <td>...</td>\n",
       "    </tr>\n",
       "    <tr>\n",
       "      <th>85</th>\n",
       "      <td>85</td>\n",
       "      <td>7/27/2020</td>\n",
       "      <td>San Francisco</td>\n",
       "      <td>2468</td>\n",
       "      <td>1900</td>\n",
       "      <td>91</td>\n",
       "      <td>91</td>\n",
       "      <td>0</td>\n",
       "      <td>5932</td>\n",
       "      <td>244</td>\n",
       "      <td>5688</td>\n",
       "      <td>0.671569</td>\n",
       "      <td>2.493868</td>\n",
       "      <td>0.651158</td>\n",
       "    </tr>\n",
       "    <tr>\n",
       "      <th>86</th>\n",
       "      <td>86</td>\n",
       "      <td>7/28/2020</td>\n",
       "      <td>San Francisco</td>\n",
       "      <td>2614</td>\n",
       "      <td>1901</td>\n",
       "      <td>91</td>\n",
       "      <td>91</td>\n",
       "      <td>0</td>\n",
       "      <td>6022</td>\n",
       "      <td>246</td>\n",
       "      <td>5776</td>\n",
       "      <td>0.681758</td>\n",
       "      <td>2.514309</td>\n",
       "      <td>0.661232</td>\n",
       "    </tr>\n",
       "    <tr>\n",
       "      <th>87</th>\n",
       "      <td>87</td>\n",
       "      <td>7/29/2020</td>\n",
       "      <td>San Francisco</td>\n",
       "      <td>2614</td>\n",
       "      <td>1899</td>\n",
       "      <td>91</td>\n",
       "      <td>91</td>\n",
       "      <td>0</td>\n",
       "      <td>6065</td>\n",
       "      <td>246</td>\n",
       "      <td>5819</td>\n",
       "      <td>0.686626</td>\n",
       "      <td>2.514309</td>\n",
       "      <td>0.666155</td>\n",
       "    </tr>\n",
       "    <tr>\n",
       "      <th>88</th>\n",
       "      <td>88</td>\n",
       "      <td>7/30/2020</td>\n",
       "      <td>San Francisco</td>\n",
       "      <td>2614</td>\n",
       "      <td>1895</td>\n",
       "      <td>91</td>\n",
       "      <td>91</td>\n",
       "      <td>0</td>\n",
       "      <td>6197</td>\n",
       "      <td>246</td>\n",
       "      <td>5951</td>\n",
       "      <td>0.701570</td>\n",
       "      <td>2.514309</td>\n",
       "      <td>0.681266</td>\n",
       "    </tr>\n",
       "    <tr>\n",
       "      <th>89</th>\n",
       "      <td>89</td>\n",
       "      <td>7/31/2020</td>\n",
       "      <td>San Francisco</td>\n",
       "      <td>2614</td>\n",
       "      <td>1895</td>\n",
       "      <td>91</td>\n",
       "      <td>91</td>\n",
       "      <td>0</td>\n",
       "      <td>6423</td>\n",
       "      <td>246</td>\n",
       "      <td>6177</td>\n",
       "      <td>0.727155</td>\n",
       "      <td>2.514309</td>\n",
       "      <td>0.707138</td>\n",
       "    </tr>\n",
       "  </tbody>\n",
       "</table>\n",
       "<p>90 rows × 14 columns</p>\n",
       "</div>"
      ],
      "text/plain": [
       "    Unnamed: 0       date         county  rooms  rooms_occupied  \\\n",
       "0            0  4/15/2020  San Francisco   1012             751   \n",
       "1            1  4/16/2020  San Francisco   1271             748   \n",
       "2            2  4/17/2020  San Francisco   1271             748   \n",
       "3            3  4/18/2020  San Francisco   1271             710   \n",
       "4            4  4/19/2020  San Francisco   1273             725   \n",
       "..         ...        ...            ...    ...             ...   \n",
       "85          85  7/27/2020  San Francisco   2468            1900   \n",
       "86          86  7/28/2020  San Francisco   2614            1901   \n",
       "87          87  7/29/2020  San Francisco   2614            1899   \n",
       "88          88  7/30/2020  San Francisco   2614            1895   \n",
       "89          89  7/31/2020  San Francisco   2614            1895   \n",
       "\n",
       "    trailers_requested  trailers_delivered  donated_trailers_delivered  \\\n",
       "0                    0                   0                           0   \n",
       "1                    0                   0                           0   \n",
       "2                    0                   0                           0   \n",
       "3                    0                   0                           0   \n",
       "4                    0                   0                           0   \n",
       "..                 ...                 ...                         ...   \n",
       "85                  91                  91                           0   \n",
       "86                  91                  91                           0   \n",
       "87                  91                  91                           0   \n",
       "88                  91                  91                           0   \n",
       "89                  91                  91                           0   \n",
       "\n",
       "    cumulative_total_population_cases  cumulative_homeless_cases  \\\n",
       "0                                 987                        119   \n",
       "1                                1013                        120   \n",
       "2                                1019                        123   \n",
       "3                                1058                        123   \n",
       "4                                1137                        126   \n",
       "..                                ...                        ...   \n",
       "85                               5932                        244   \n",
       "86                               6022                        246   \n",
       "87                               6065                        246   \n",
       "88                               6197                        246   \n",
       "89                               6423                        246   \n",
       "\n",
       "    cumulative_general_public_cases  total_population_by_percentage   \\\n",
       "0                               868                         0.111739   \n",
       "1                               893                         0.114683   \n",
       "2                               896                         0.115362   \n",
       "3                               935                         0.119777   \n",
       "4                              1011                         0.128721   \n",
       "..                              ...                              ...   \n",
       "85                             5688                         0.671569   \n",
       "86                             5776                         0.681758   \n",
       "87                             5819                         0.686626   \n",
       "88                             5951                         0.701570   \n",
       "89                             6177                         0.727155   \n",
       "\n",
       "    homless_population_by_percentage  general_public_population_by_percentage  \n",
       "0                           1.216271                                 0.099368  \n",
       "1                           1.226492                                 0.102230  \n",
       "2                           1.257155                                 0.102573  \n",
       "3                           1.257155                                 0.107038  \n",
       "4                           1.287817                                 0.115738  \n",
       "..                               ...                                      ...  \n",
       "85                          2.493868                                 0.651158  \n",
       "86                          2.514309                                 0.661232  \n",
       "87                          2.514309                                 0.666155  \n",
       "88                          2.514309                                 0.681266  \n",
       "89                          2.514309                                 0.707138  \n",
       "\n",
       "[90 rows x 14 columns]"
      ]
     },
     "execution_count": 21,
     "metadata": {},
     "output_type": "execute_result"
    }
   ],
   "source": [
    "SF"
   ]
  },
  {
   "cell_type": "markdown",
   "metadata": {},
   "source": [
    "## Testing assumptions"
   ]
  },
  {
   "cell_type": "markdown",
   "metadata": {},
   "source": [
    "### Testing for Normality"
   ]
  },
  {
   "cell_type": "code",
   "execution_count": 23,
   "metadata": {},
   "outputs": [
    {
     "data": {
      "text/plain": [
       "<matplotlib.axes._subplots.AxesSubplot at 0x1b421966d88>"
      ]
     },
     "execution_count": 23,
     "metadata": {},
     "output_type": "execute_result"
    },
    {
     "data": {
      "image/png": "[encoded data removed]",
      "text/plain": [
       "<Figure size 432x288 with 1 Axes>"
      ]
     },
     "metadata": {
      "needs_background": "light"
     },
     "output_type": "display_data"
    }
   ],
   "source": [
    "sns.distplot(SF['homless_population_by_percentage'])"
   ]
  },
  {
   "cell_type": "code",
   "execution_count": 24,
   "metadata": {},
   "outputs": [
    {
     "data": {
      "text/plain": [
       "<matplotlib.axes._subplots.AxesSubplot at 0x1b4219de9c8>"
      ]
     },
     "execution_count": 24,
     "metadata": {},
     "output_type": "execute_result"
    },
    {
     "data": {
      "image/png": "[encoded data removed]",
      "text/plain": [
       "<Figure size 432x288 with 1 Axes>"
      ]
     },
     "metadata": {
      "needs_background": "light"
     },
     "output_type": "display_data"
    }
   ],
   "source": [
    "sns.distplot(SF['general_public_population_by_percentage'])"
   ]
  },
  {
   "cell_type": "markdown",
   "metadata": {},
   "source": [
    "#### both variables are normally distributed"
   ]
  },
  {
   "cell_type": "markdown",
   "metadata": {},
   "source": [
    "## Testing for Homoscedasticity"
   ]
  },
  {
   "cell_type": "markdown",
   "metadata": {},
   "source": [
    "We will create the Basic Model"
   ]
  },
  {
   "cell_type": "code",
   "execution_count": null,
   "metadata": {},
   "outputs": [],
   "source": [
    "x = SF['homless_population_by_percentage']\n",
    "y = SF['general_public_population_by_percentage']"
   ]
  },
  {
   "cell_type": "code",
   "execution_count": 29,
   "metadata": {},
   "outputs": [],
   "source": [
    "SFmodel = sm.OLS(y,x).fit()"
   ]
  },
  {
   "cell_type": "markdown",
   "metadata": {},
   "source": [
    "calculating out the residuals"
   ]
  },
  {
   "cell_type": "code",
   "execution_count": 30,
   "metadata": {},
   "outputs": [],
   "source": [
    "pred_val = SFmodel.fittedvalues.copy()\n",
    "true_val = SF['general_public_population_by_percentage'].values.copy()\n",
    "residual = true_val - pred_val"
   ]
  },
  {
   "cell_type": "markdown",
   "metadata": {},
   "source": [
    " Graphing residuals to observe homoscedasticity"
   ]
  },
  {
   "cell_type": "code",
   "execution_count": 67,
   "metadata": {
    "scrolled": true
   },
   "outputs": [
    {
     "data": {
      "image/png": "[encoded data removed]",
      "text/plain": [
       "<Figure size 432x180 with 1 Axes>"
      ]
     },
     "metadata": {
      "needs_background": "light"
     },
     "output_type": "display_data"
    }
   ],
   "source": [
    "fig, ax = plt.subplots(figsize=(6, 2.5))\n",
    "_ = ax.scatter(residual, pred_val)"
   ]
  },
  {
   "cell_type": "markdown",
   "metadata": {},
   "source": [
    "The graph shows some residuals and we unsure if we could have a straight line run through all the values. So we will check the graph using the Breusch Pagan test from the sms package."
   ]
  },
  {
   "cell_type": "code",
   "execution_count": 35,
   "metadata": {},
   "outputs": [
    {
     "data": {
      "text/plain": [
       "(39.76675503639568, nan, 70.45615310743939, 6.72771526412301e-13)"
      ]
     },
     "execution_count": 35,
     "metadata": {},
     "output_type": "execute_result"
    }
   ],
   "source": [
    "sms.diagnostic.het_breuschpagan(residual, SF[['homless_population_by_percentage']])"
   ]
  },
  {
   "cell_type": "markdown",
   "metadata": {},
   "source": [
    "The output shows the F value is 70, this is a big number which increases chances of being statistically significant and the pvalue of 6.7e-13 < .05 is statistically significant , so we have violated the assumption of homoscedasticity and the data in fact is heteroscedastic. We will try again using the Harvey Collier test."
   ]
  },
  {
   "cell_type": "code",
   "execution_count": 36,
   "metadata": {},
   "outputs": [
    {
     "data": {
      "text/plain": [
       "Ttest_1sampResult(statistic=11.410715585424994, pvalue=6.677313133602373e-19)"
      ]
     },
     "execution_count": 36,
     "metadata": {},
     "output_type": "execute_result"
    }
   ],
   "source": [
    "sms.linear_harvey_collier(SFmodel)"
   ]
  },
  {
   "cell_type": "markdown",
   "metadata": {},
   "source": [
    "This test also reveals a pvalue < .05, which violates assumption of homoscedasticity. So we will transform our variables so they become homoscedastic. We will apply the Box-cox transformation."
   ]
  },
  {
   "cell_type": "code",
   "execution_count": 37,
   "metadata": {},
   "outputs": [],
   "source": [
    "transformed, _ = boxcox(SF['homless_population_by_percentage'])"
   ]
  },
  {
   "cell_type": "code",
   "execution_count": 38,
   "metadata": {
    "scrolled": true
   },
   "outputs": [
    {
     "data": {
      "text/plain": [
       "(array([ 5.,  7.,  5.,  4., 24., 13.,  5.,  9.,  7., 11.]),\n",
       " array([0.18553191, 0.23915384, 0.29277577, 0.3463977 , 0.40001964,\n",
       "        0.45364157, 0.5072635 , 0.56088543, 0.61450736, 0.66812929,\n",
       "        0.72175123]),\n",
       " <a list of 10 Patch objects>)"
      ]
     },
     "execution_count": 38,
     "metadata": {},
     "output_type": "execute_result"
    },
    {
     "data": {
      "image/png": "[encoded data removed]",
      "text/plain": [
       "<Figure size 432x288 with 1 Axes>"
      ]
     },
     "metadata": {
      "needs_background": "light"
     },
     "output_type": "display_data"
    }
   ],
   "source": [
    "plt.hist(transformed)"
   ]
  },
  {
   "cell_type": "code",
   "execution_count": 55,
   "metadata": {},
   "outputs": [
    {
     "data": {
      "text/plain": [
       "Ttest_1sampResult(statistic=7.791378984019453, pvalue=1.3948527653286787e-11)"
      ]
     },
     "execution_count": 55,
     "metadata": {},
     "output_type": "execute_result"
    }
   ],
   "source": [
    "sms.linear_harvey_collier(SF2model)"
   ]
  },
  {
   "cell_type": "markdown",
   "metadata": {},
   "source": [
    "This looks like the data has been transformed, and seems normally distributed. We will run the Homoscedasticity test to prove that."
   ]
  },
  {
   "cell_type": "code",
   "execution_count": 52,
   "metadata": {},
   "outputs": [],
   "source": [
    "x = transformed\n",
    "SF1model = sm.OLS(y,x).fit()\n"
   ]
  },
  {
   "cell_type": "code",
   "execution_count": 42,
   "metadata": {},
   "outputs": [],
   "source": [
    "pred_val = SF1model.fittedvalues.copy()\n",
    "true_val = SF['general_public_population_by_percentage'].values.copy()\n",
    "residual = true_val - pred_val"
   ]
  },
  {
   "cell_type": "code",
   "execution_count": 43,
   "metadata": {},
   "outputs": [
    {
     "data": {
      "image/png": "[encoded data removed]",
      "text/plain": [
       "<Figure size 432x180 with 1 Axes>"
      ]
     },
     "metadata": {
      "needs_background": "light"
     },
     "output_type": "display_data"
    }
   ],
   "source": [
    "fig, ax = plt.subplots(figsize=(6, 2.5))\n",
    "_ = ax.scatter(residual, pred_val)"
   ]
  },
  {
   "cell_type": "code",
   "execution_count": 46,
   "metadata": {},
   "outputs": [
    {
     "data": {
      "text/plain": [
       "Ttest_1sampResult(statistic=7.791378984019453, pvalue=1.3948527653286787e-11)"
      ]
     },
     "execution_count": 46,
     "metadata": {},
     "output_type": "execute_result"
    }
   ],
   "source": [
    "sms.linear_harvey_collier(SF1model)"
   ]
  },
  {
   "cell_type": "markdown",
   "metadata": {},
   "source": [
    "# the pvalue is still significant "
   ]
  },
  {
   "cell_type": "markdown",
   "metadata": {},
   "source": [
    "We do not have to Test for Multicollinearity because we have only one independent variable."
   ]
  },
  {
   "cell_type": "markdown",
   "metadata": {},
   "source": [
    "### Screen for outliers"
   ]
  },
  {
   "cell_type": "code",
   "execution_count": 47,
   "metadata": {},
   "outputs": [
    {
     "data": {
      "image/png": "[encoded data removed]",
      "text/plain": [
       "<Figure size 864x576 with 1 Axes>"
      ]
     },
     "metadata": {
      "needs_background": "light"
     },
     "output_type": "display_data"
    }
   ],
   "source": [
    "fig, ax = plt.subplots(figsize=(12,8))\n",
    "fig = sm.graphics.influence_plot(SFmodel, alpha = .05, ax = ax, criterion=\"cooks\")"
   ]
  },
  {
   "cell_type": "markdown",
   "metadata": {},
   "source": [
    "We can observe that we have 4 outliers labeled in the graph. Lets look a a table as well to double check."
   ]
  },
  {
   "cell_type": "code",
   "execution_count": 58,
   "metadata": {},
   "outputs": [
    {
     "name": "stdout",
     "output_type": "stream",
     "text": [
      "    dfb_homless_population_by_percentage   cooks_d  standard_resid  hat_diag  \\\n",
      "0                              -0.089660  0.007984       -1.263781  0.004974   \n",
      "1                              -0.089647  0.007985       -1.253212  0.005058   \n",
      "2                              -0.095987  0.009139       -1.307896  0.005314   \n",
      "3                              -0.092489  0.008497       -1.261099  0.005314   \n",
      "4                              -0.092241  0.008459       -1.228189  0.005577   \n",
      "..                                   ...       ...             ...       ...   \n",
      "85                              0.315322  0.095506        2.114555  0.020913   \n",
      "86                              0.328718  0.103436        2.182315  0.021257   \n",
      "87                              0.337013  0.108425        2.234331  0.021257   \n",
      "88                              0.362697  0.124476        2.394008  0.021257   \n",
      "89                              0.407515  0.154529        2.667393  0.021257   \n",
      "\n",
      "    dffits_internal  student_resid    dffits  \n",
      "0         -0.089355      -1.268091 -0.089660  \n",
      "1         -0.089356      -1.257294 -0.089647  \n",
      "2         -0.095599      -1.313209 -0.095987  \n",
      "3         -0.092178      -1.265350 -0.092489  \n",
      "4         -0.091974      -1.231752 -0.092241  \n",
      "..              ...            ...       ...  \n",
      "85         0.309040       2.157538  0.315322  \n",
      "86         0.321614       2.230520  0.328718  \n",
      "87         0.329280       2.286805  0.337013  \n",
      "88         0.352812       2.461081  0.362697  \n",
      "89         0.393102       2.765197  0.407515  \n",
      "\n",
      "[90 rows x 7 columns]\n"
     ]
    }
   ],
   "source": [
    "infl = SFmodel.get_influence()\n",
    "print(infl.summary_frame())"
   ]
  },
  {
   "cell_type": "markdown",
   "metadata": {},
   "source": [
    "For the student_resid, we see that we have a value that over 2.5 in row 89, this means that we have an outlier problem."
   ]
  },
  {
   "cell_type": "code",
   "execution_count": 65,
   "metadata": {},
   "outputs": [
    {
     "data": {
      "text/html": [
       "<table class=\"simpletable\">\n",
       "<caption>OLS Regression Results</caption>\n",
       "<tr>\n",
       "  <th>Dep. Variable:</th>    <td>general_public_population_by_percentage</td> <th>  R-squared (uncentered):</th>      <td>   0.923</td>\n",
       "</tr>\n",
       "<tr>\n",
       "  <th>Model:</th>                              <td>OLS</td>                   <th>  Adj. R-squared (uncentered):</th> <td>   0.922</td>\n",
       "</tr>\n",
       "<tr>\n",
       "  <th>Method:</th>                        <td>Least Squares</td>              <th>  F-statistic:       </th>          <td>   1063.</td>\n",
       "</tr>\n",
       "<tr>\n",
       "  <th>Date:</th>                        <td>Tue, 25 Aug 2020</td>             <th>  Prob (F-statistic):</th>          <td>2.87e-51</td>\n",
       "</tr>\n",
       "<tr>\n",
       "  <th>Time:</th>                            <td>19:39:42</td>                 <th>  Log-Likelihood:    </th>          <td>  84.025</td>\n",
       "</tr>\n",
       "<tr>\n",
       "  <th>No. Observations:</th>                 <td>    90</td>                  <th>  AIC:               </th>          <td>  -166.1</td>\n",
       "</tr>\n",
       "<tr>\n",
       "  <th>Df Residuals:</th>                     <td>    89</td>                  <th>  BIC:               </th>          <td>  -163.6</td>\n",
       "</tr>\n",
       "<tr>\n",
       "  <th>Df Model:</th>                         <td>     1</td>                  <th>                     </th>              <td> </td>   \n",
       "</tr>\n",
       "<tr>\n",
       "  <th>Covariance Type:</th>                 <td>nonrobust</td>                <th>                     </th>              <td> </td>   \n",
       "</tr>\n",
       "</table>\n",
       "<table class=\"simpletable\">\n",
       "<tr>\n",
       "                  <td></td>                    <th>coef</th>     <th>std err</th>      <th>t</th>      <th>P>|t|</th>  <th>[0.025</th>    <th>0.975]</th>  \n",
       "</tr>\n",
       "<tr>\n",
       "  <th>homless_population_by_percentage</th> <td>    0.1808</td> <td>    0.006</td> <td>   32.603</td> <td> 0.000</td> <td>    0.170</td> <td>    0.192</td>\n",
       "</tr>\n",
       "</table>\n",
       "<table class=\"simpletable\">\n",
       "<tr>\n",
       "  <th>Omnibus:</th>       <td>16.223</td> <th>  Durbin-Watson:     </th> <td>   0.008</td>\n",
       "</tr>\n",
       "<tr>\n",
       "  <th>Prob(Omnibus):</th> <td> 0.000</td> <th>  Jarque-Bera (JB):  </th> <td>  18.903</td>\n",
       "</tr>\n",
       "<tr>\n",
       "  <th>Skew:</th>          <td> 1.099</td> <th>  Prob(JB):          </th> <td>7.86e-05</td>\n",
       "</tr>\n",
       "<tr>\n",
       "  <th>Kurtosis:</th>      <td> 3.461</td> <th>  Cond. No.          </th> <td>    1.00</td>\n",
       "</tr>\n",
       "</table><br/><br/>Warnings:<br/>[1] Standard Errors assume that the covariance matrix of the errors is correctly specified."
      ],
      "text/plain": [
       "<class 'statsmodels.iolib.summary.Summary'>\n",
       "\"\"\"\n",
       "                                           OLS Regression Results                                           \n",
       "============================================================================================================\n",
       "Dep. Variable:     general_public_population_by_percentage   R-squared (uncentered):                   0.923\n",
       "Model:                                                 OLS   Adj. R-squared (uncentered):              0.922\n",
       "Method:                                      Least Squares   F-statistic:                              1063.\n",
       "Date:                                     Tue, 25 Aug 2020   Prob (F-statistic):                    2.87e-51\n",
       "Time:                                             19:39:42   Log-Likelihood:                          84.025\n",
       "No. Observations:                                       90   AIC:                                     -166.1\n",
       "Df Residuals:                                           89   BIC:                                     -163.6\n",
       "Df Model:                                                1                                                  \n",
       "Covariance Type:                                 nonrobust                                                  \n",
       "====================================================================================================\n",
       "                                       coef    std err          t      P>|t|      [0.025      0.975]\n",
       "----------------------------------------------------------------------------------------------------\n",
       "homless_population_by_percentage     0.1808      0.006     32.603      0.000       0.170       0.192\n",
       "==============================================================================\n",
       "Omnibus:                       16.223   Durbin-Watson:                   0.008\n",
       "Prob(Omnibus):                  0.000   Jarque-Bera (JB):               18.903\n",
       "Skew:                           1.099   Prob(JB):                     7.86e-05\n",
       "Kurtosis:                       3.461   Cond. No.                         1.00\n",
       "==============================================================================\n",
       "\n",
       "Warnings:\n",
       "[1] Standard Errors assume that the covariance matrix of the errors is correctly specified.\n",
       "\"\"\""
      ]
     },
     "execution_count": 65,
     "metadata": {},
     "output_type": "execute_result"
    }
   ],
   "source": [
    "SFmodel.summary()"
   ]
  },
  {
   "cell_type": "markdown",
   "metadata": {},
   "source": [
    "The overall model is statistically significant because pvalue <.05. the homeless cases have a significant effect on the number of general public cases. When we look at R- squared and Adj. R-squared it shows that this model accounts for 92%of the variance in explaining general public cases."
   ]
  },
  {
   "cell_type": "code",
   "execution_count": null,
   "metadata": {},
   "outputs": [],
   "source": []
  }
 ],
 "metadata": {
  "kernelspec": {
   "display_name": "Python 3",
   "language": "python",
   "name": "python3"
  },
  "language_info": {
   "codemirror_mode": {
    "name": "ipython",
    "version": 3
   },
   "file_extension": ".py",
   "mimetype": "text/x-python",
   "name": "python",
   "nbconvert_exporter": "python",
   "pygments_lexer": "ipython3",
   "version": "3.7.6"
  }
 },
 "nbformat": 4,
 "nbformat_minor": 4
}
